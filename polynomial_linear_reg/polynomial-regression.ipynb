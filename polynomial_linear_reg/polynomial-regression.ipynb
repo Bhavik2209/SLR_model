{
 "cells": [
  {
   "cell_type": "code",
   "execution_count": 59,
   "id": "d2fcc898",
   "metadata": {},
   "outputs": [],
   "source": [
    "import numpy as np\n",
    "import matplotlib.pyplot as plt\n",
    "\n",
    "from sklearn.model_selection import train_test_split\n",
    "\n",
    "from sklearn.linear_model import LinearRegression,SGDRegressor\n",
    "\n",
    "from sklearn.preprocessing import PolynomialFeatures,StandardScaler\n",
    "\n",
    "from sklearn.metrics import r2_score\n",
    "\n",
    "from sklearn.pipeline import Pipeline"
   ]
  },
  {
   "cell_type": "code",
   "execution_count": 60,
   "id": "c929c0ff",
   "metadata": {},
   "outputs": [],
   "source": [
    "X = 6 * np.random.rand(200, 1) - 3\n",
    "y = 0.8 * X**2 + 0.9 * X + 2 + np.random.randn(200, 1)\n",
    "\n",
    "# y = 0.8x^2 + 0.9x + 2"
   ]
  },
  {
   "cell_type": "code",
   "execution_count": 61,
   "id": "4dbb8ca1",
   "metadata": {},
   "outputs": [
    {
     "data": {
      "image/png": "[encoded data removed]",
      "text/plain": [
       "<Figure size 640x480 with 1 Axes>"
      ]
     },
     "metadata": {},
     "output_type": "display_data"
    }
   ],
   "source": [
    "plt.plot(X, y,'b.')\n",
    "plt.xlabel(\"X\")\n",
    "plt.ylabel(\"y\")\n",
    "plt.show()"
   ]
  },
  {
   "cell_type": "code",
   "execution_count": 62,
   "id": "aaacb73d",
   "metadata": {},
   "outputs": [],
   "source": [
    "# Train test split\n",
    "X_train,X_test,y_train,y_test = train_test_split(X,y,test_size=0.2,random_state=2)"
   ]
  },
  {
   "cell_type": "code",
   "execution_count": 63,
   "id": "398d34ad",
   "metadata": {},
   "outputs": [],
   "source": [
    "# Applying linear regression\n",
    "lr = LinearRegression()"
   ]
  },
  {
   "cell_type": "code",
   "execution_count": 64,
   "id": "4223f668",
   "metadata": {},
   "outputs": [
    {
     "data": {
      "text/html": [
       "<style>#sk-container-id-5 {\n",
       "  /* Definition of color scheme common for light and dark mode */\n",
       "  --sklearn-color-text: black;\n",
       "  --sklearn-color-line: gray;\n",
       "  /* Definition of color scheme for unfitted estimators */\n",
       "  --sklearn-color-unfitted-level-0: #fff5e6;\n",
       "  --sklearn-color-unfitted-level-1: #f6e4d2;\n",
       "  --sklearn-color-unfitted-level-2: #ffe0b3;\n",
       "  --sklearn-color-unfitted-level-3: chocolate;\n",
       "  /* Definition of color scheme for fitted estimators */\n",
       "  --sklearn-color-fitted-level-0: #f0f8ff;\n",
       "  --sklearn-color-fitted-level-1: #d4ebff;\n",
       "  --sklearn-color-fitted-level-2: #b3dbfd;\n",
       "  --sklearn-color-fitted-level-3: cornflowerblue;\n",
       "\n",
       "  /* Specific color for light theme */\n",
       "  --sklearn-color-text-on-default-background: var(--sg-text-color, var(--theme-code-foreground, var(--jp-content-font-color1, black)));\n",
       "  --sklearn-color-background: var(--sg-background-color, var(--theme-background, var(--jp-layout-color0, white)));\n",
       "  --sklearn-color-border-box: var(--sg-text-color, var(--theme-code-foreground, var(--jp-content-font-color1, black)));\n",
       "  --sklearn-color-icon: #696969;\n",
       "\n",
       "  @media (prefers-color-scheme: dark) {\n",
       "    /* Redefinition of color scheme for dark theme */\n",
       "    --sklearn-color-text-on-default-background: var(--sg-text-color, var(--theme-code-foreground, var(--jp-content-font-color1, white)));\n",
       "    --sklearn-color-background: var(--sg-background-color, var(--theme-background, var(--jp-layout-color0, #111)));\n",
       "    --sklearn-color-border-box: var(--sg-text-color, var(--theme-code-foreground, var(--jp-content-font-color1, white)));\n",
       "    --sklearn-color-icon: #878787;\n",
       "  }\n",
       "}\n",
       "\n",
       "#sk-container-id-5 {\n",
       "  color: var(--sklearn-color-text);\n",
       "}\n",
       "\n",
       "#sk-container-id-5 pre {\n",
       "  padding: 0;\n",
       "}\n",
       "\n",
       "#sk-container-id-5 input.sk-hidden--visually {\n",
       "  border: 0;\n",
       "  clip: rect(1px 1px 1px 1px);\n",
       "  clip: rect(1px, 1px, 1px, 1px);\n",
       "  height: 1px;\n",
       "  margin: -1px;\n",
       "  overflow: hidden;\n",
       "  padding: 0;\n",
       "  position: absolute;\n",
       "  width: 1px;\n",
       "}\n",
       "\n",
       "#sk-container-id-5 div.sk-dashed-wrapped {\n",
       "  border: 1px dashed var(--sklearn-color-line);\n",
       "  margin: 0 0.4em 0.5em 0.4em;\n",
       "  box-sizing: border-box;\n",
       "  padding-bottom: 0.4em;\n",
       "  background-color: var(--sklearn-color-background);\n",
       "}\n",
       "\n",
       "#sk-container-id-5 div.sk-container {\n",
       "  /* jupyter's `normalize.less` sets `[hidden] { display: none; }`\n",
       "     but bootstrap.min.css set `[hidden] { display: none !important; }`\n",
       "     so we also need the `!important` here to be able to override the\n",
       "     default hidden behavior on the sphinx rendered scikit-learn.org.\n",
       "     See: https://github.com/scikit-learn/scikit-learn/issues/21755 */\n",
       "  display: inline-block !important;\n",
       "  position: relative;\n",
       "}\n",
       "\n",
       "#sk-container-id-5 div.sk-text-repr-fallback {\n",
       "  display: none;\n",
       "}\n",
       "\n",
       "div.sk-parallel-item,\n",
       "div.sk-serial,\n",
       "div.sk-item {\n",
       "  /* draw centered vertical line to link estimators */\n",
       "  background-image: linear-gradient(var(--sklearn-color-text-on-default-background), var(--sklearn-color-text-on-default-background));\n",
       "  background-size: 2px 100%;\n",
       "  background-repeat: no-repeat;\n",
       "  background-position: center center;\n",
       "}\n",
       "\n",
       "/* Parallel-specific style estimator block */\n",
       "\n",
       "#sk-container-id-5 div.sk-parallel-item::after {\n",
       "  content: \"\";\n",
       "  width: 100%;\n",
       "  border-bottom: 2px solid var(--sklearn-color-text-on-default-background);\n",
       "  flex-grow: 1;\n",
       "}\n",
       "\n",
       "#sk-container-id-5 div.sk-parallel {\n",
       "  display: flex;\n",
       "  align-items: stretch;\n",
       "  justify-content: center;\n",
       "  background-color: var(--sklearn-color-background);\n",
       "  position: relative;\n",
       "}\n",
       "\n",
       "#sk-container-id-5 div.sk-parallel-item {\n",
       "  display: flex;\n",
       "  flex-direction: column;\n",
       "}\n",
       "\n",
       "#sk-container-id-5 div.sk-parallel-item:first-child::after {\n",
       "  align-self: flex-end;\n",
       "  width: 50%;\n",
       "}\n",
       "\n",
       "#sk-container-id-5 div.sk-parallel-item:last-child::after {\n",
       "  align-self: flex-start;\n",
       "  width: 50%;\n",
       "}\n",
       "\n",
       "#sk-container-id-5 div.sk-parallel-item:only-child::after {\n",
       "  width: 0;\n",
       "}\n",
       "\n",
       "/* Serial-specific style estimator block */\n",
       "\n",
       "#sk-container-id-5 div.sk-serial {\n",
       "  display: flex;\n",
       "  flex-direction: column;\n",
       "  align-items: center;\n",
       "  background-color: var(--sklearn-color-background);\n",
       "  padding-right: 1em;\n",
       "  padding-left: 1em;\n",
       "}\n",
       "\n",
       "\n",
       "/* Toggleable style: style used for estimator/Pipeline/ColumnTransformer box that is\n",
       "clickable and can be expanded/collapsed.\n",
       "- Pipeline and ColumnTransformer use this feature and define the default style\n",
       "- Estimators will overwrite some part of the style using the `sk-estimator` class\n",
       "*/\n",
       "\n",
       "/* Pipeline and ColumnTransformer style (default) */\n",
       "\n",
       "#sk-container-id-5 div.sk-toggleable {\n",
       "  /* Default theme specific background. It is overwritten whether we have a\n",
       "  specific estimator or a Pipeline/ColumnTransformer */\n",
       "  background-color: var(--sklearn-color-background);\n",
       "}\n",
       "\n",
       "/* Toggleable label */\n",
       "#sk-container-id-5 label.sk-toggleable__label {\n",
       "  cursor: pointer;\n",
       "  display: block;\n",
       "  width: 100%;\n",
       "  margin-bottom: 0;\n",
       "  padding: 0.5em;\n",
       "  box-sizing: border-box;\n",
       "  text-align: center;\n",
       "}\n",
       "\n",
       "#sk-container-id-5 label.sk-toggleable__label-arrow:before {\n",
       "  /* Arrow on the left of the label */\n",
       "  content: \"▸\";\n",
       "  float: left;\n",
       "  margin-right: 0.25em;\n",
       "  color: var(--sklearn-color-icon);\n",
       "}\n",
       "\n",
       "#sk-container-id-5 label.sk-toggleable__label-arrow:hover:before {\n",
       "  color: var(--sklearn-color-text);\n",
       "}\n",
       "\n",
       "/* Toggleable content - dropdown */\n",
       "\n",
       "#sk-container-id-5 div.sk-toggleable__content {\n",
       "  max-height: 0;\n",
       "  max-width: 0;\n",
       "  overflow: hidden;\n",
       "  text-align: left;\n",
       "  /* unfitted */\n",
       "  background-color: var(--sklearn-color-unfitted-level-0);\n",
       "}\n",
       "\n",
       "#sk-container-id-5 div.sk-toggleable__content.fitted {\n",
       "  /* fitted */\n",
       "  background-color: var(--sklearn-color-fitted-level-0);\n",
       "}\n",
       "\n",
       "#sk-container-id-5 div.sk-toggleable__content pre {\n",
       "  margin: 0.2em;\n",
       "  border-radius: 0.25em;\n",
       "  color: var(--sklearn-color-text);\n",
       "  /* unfitted */\n",
       "  background-color: var(--sklearn-color-unfitted-level-0);\n",
       "}\n",
       "\n",
       "#sk-container-id-5 div.sk-toggleable__content.fitted pre {\n",
       "  /* unfitted */\n",
       "  background-color: var(--sklearn-color-fitted-level-0);\n",
       "}\n",
       "\n",
       "#sk-container-id-5 input.sk-toggleable__control:checked~div.sk-toggleable__content {\n",
       "  /* Expand drop-down */\n",
       "  max-height: 200px;\n",
       "  max-width: 100%;\n",
       "  overflow: auto;\n",
       "}\n",
       "\n",
       "#sk-container-id-5 input.sk-toggleable__control:checked~label.sk-toggleable__label-arrow:before {\n",
       "  content: \"▾\";\n",
       "}\n",
       "\n",
       "/* Pipeline/ColumnTransformer-specific style */\n",
       "\n",
       "#sk-container-id-5 div.sk-label input.sk-toggleable__control:checked~label.sk-toggleable__label {\n",
       "  color: var(--sklearn-color-text);\n",
       "  background-color: var(--sklearn-color-unfitted-level-2);\n",
       "}\n",
       "\n",
       "#sk-container-id-5 div.sk-label.fitted input.sk-toggleable__control:checked~label.sk-toggleable__label {\n",
       "  background-color: var(--sklearn-color-fitted-level-2);\n",
       "}\n",
       "\n",
       "/* Estimator-specific style */\n",
       "\n",
       "/* Colorize estimator box */\n",
       "#sk-container-id-5 div.sk-estimator input.sk-toggleable__control:checked~label.sk-toggleable__label {\n",
       "  /* unfitted */\n",
       "  background-color: var(--sklearn-color-unfitted-level-2);\n",
       "}\n",
       "\n",
       "#sk-container-id-5 div.sk-estimator.fitted input.sk-toggleable__control:checked~label.sk-toggleable__label {\n",
       "  /* fitted */\n",
       "  background-color: var(--sklearn-color-fitted-level-2);\n",
       "}\n",
       "\n",
       "#sk-container-id-5 div.sk-label label.sk-toggleable__label,\n",
       "#sk-container-id-5 div.sk-label label {\n",
       "  /* The background is the default theme color */\n",
       "  color: var(--sklearn-color-text-on-default-background);\n",
       "}\n",
       "\n",
       "/* On hover, darken the color of the background */\n",
       "#sk-container-id-5 div.sk-label:hover label.sk-toggleable__label {\n",
       "  color: var(--sklearn-color-text);\n",
       "  background-color: var(--sklearn-color-unfitted-level-2);\n",
       "}\n",
       "\n",
       "/* Label box, darken color on hover, fitted */\n",
       "#sk-container-id-5 div.sk-label.fitted:hover label.sk-toggleable__label.fitted {\n",
       "  color: var(--sklearn-color-text);\n",
       "  background-color: var(--sklearn-color-fitted-level-2);\n",
       "}\n",
       "\n",
       "/* Estimator label */\n",
       "\n",
       "#sk-container-id-5 div.sk-label label {\n",
       "  font-family: monospace;\n",
       "  font-weight: bold;\n",
       "  display: inline-block;\n",
       "  line-height: 1.2em;\n",
       "}\n",
       "\n",
       "#sk-container-id-5 div.sk-label-container {\n",
       "  text-align: center;\n",
       "}\n",
       "\n",
       "/* Estimator-specific */\n",
       "#sk-container-id-5 div.sk-estimator {\n",
       "  font-family: monospace;\n",
       "  border: 1px dotted var(--sklearn-color-border-box);\n",
       "  border-radius: 0.25em;\n",
       "  box-sizing: border-box;\n",
       "  margin-bottom: 0.5em;\n",
       "  /* unfitted */\n",
       "  background-color: var(--sklearn-color-unfitted-level-0);\n",
       "}\n",
       "\n",
       "#sk-container-id-5 div.sk-estimator.fitted {\n",
       "  /* fitted */\n",
       "  background-color: var(--sklearn-color-fitted-level-0);\n",
       "}\n",
       "\n",
       "/* on hover */\n",
       "#sk-container-id-5 div.sk-estimator:hover {\n",
       "  /* unfitted */\n",
       "  background-color: var(--sklearn-color-unfitted-level-2);\n",
       "}\n",
       "\n",
       "#sk-container-id-5 div.sk-estimator.fitted:hover {\n",
       "  /* fitted */\n",
       "  background-color: var(--sklearn-color-fitted-level-2);\n",
       "}\n",
       "\n",
       "/* Specification for estimator info (e.g. \"i\" and \"?\") */\n",
       "\n",
       "/* Common style for \"i\" and \"?\" */\n",
       "\n",
       ".sk-estimator-doc-link,\n",
       "a:link.sk-estimator-doc-link,\n",
       "a:visited.sk-estimator-doc-link {\n",
       "  float: right;\n",
       "  font-size: smaller;\n",
       "  line-height: 1em;\n",
       "  font-family: monospace;\n",
       "  background-color: var(--sklearn-color-background);\n",
       "  border-radius: 1em;\n",
       "  height: 1em;\n",
       "  width: 1em;\n",
       "  text-decoration: none !important;\n",
       "  margin-left: 1ex;\n",
       "  /* unfitted */\n",
       "  border: var(--sklearn-color-unfitted-level-1) 1pt solid;\n",
       "  color: var(--sklearn-color-unfitted-level-1);\n",
       "}\n",
       "\n",
       ".sk-estimator-doc-link.fitted,\n",
       "a:link.sk-estimator-doc-link.fitted,\n",
       "a:visited.sk-estimator-doc-link.fitted {\n",
       "  /* fitted */\n",
       "  border: var(--sklearn-color-fitted-level-1) 1pt solid;\n",
       "  color: var(--sklearn-color-fitted-level-1);\n",
       "}\n",
       "\n",
       "/* On hover */\n",
       "div.sk-estimator:hover .sk-estimator-doc-link:hover,\n",
       ".sk-estimator-doc-link:hover,\n",
       "div.sk-label-container:hover .sk-estimator-doc-link:hover,\n",
       ".sk-estimator-doc-link:hover {\n",
       "  /* unfitted */\n",
       "  background-color: var(--sklearn-color-unfitted-level-3);\n",
       "  color: var(--sklearn-color-background);\n",
       "  text-decoration: none;\n",
       "}\n",
       "\n",
       "div.sk-estimator.fitted:hover .sk-estimator-doc-link.fitted:hover,\n",
       ".sk-estimator-doc-link.fitted:hover,\n",
       "div.sk-label-container:hover .sk-estimator-doc-link.fitted:hover,\n",
       ".sk-estimator-doc-link.fitted:hover {\n",
       "  /* fitted */\n",
       "  background-color: var(--sklearn-color-fitted-level-3);\n",
       "  color: var(--sklearn-color-background);\n",
       "  text-decoration: none;\n",
       "}\n",
       "\n",
       "/* Span, style for the box shown on hovering the info icon */\n",
       ".sk-estimator-doc-link span {\n",
       "  display: none;\n",
       "  z-index: 9999;\n",
       "  position: relative;\n",
       "  font-weight: normal;\n",
       "  right: .2ex;\n",
       "  padding: .5ex;\n",
       "  margin: .5ex;\n",
       "  width: min-content;\n",
       "  min-width: 20ex;\n",
       "  max-width: 50ex;\n",
       "  color: var(--sklearn-color-text);\n",
       "  box-shadow: 2pt 2pt 4pt #999;\n",
       "  /* unfitted */\n",
       "  background: var(--sklearn-color-unfitted-level-0);\n",
       "  border: .5pt solid var(--sklearn-color-unfitted-level-3);\n",
       "}\n",
       "\n",
       ".sk-estimator-doc-link.fitted span {\n",
       "  /* fitted */\n",
       "  background: var(--sklearn-color-fitted-level-0);\n",
       "  border: var(--sklearn-color-fitted-level-3);\n",
       "}\n",
       "\n",
       ".sk-estimator-doc-link:hover span {\n",
       "  display: block;\n",
       "}\n",
       "\n",
       "/* \"?\"-specific style due to the `<a>` HTML tag */\n",
       "\n",
       "#sk-container-id-5 a.estimator_doc_link {\n",
       "  float: right;\n",
       "  font-size: 1rem;\n",
       "  line-height: 1em;\n",
       "  font-family: monospace;\n",
       "  background-color: var(--sklearn-color-background);\n",
       "  border-radius: 1rem;\n",
       "  height: 1rem;\n",
       "  width: 1rem;\n",
       "  text-decoration: none;\n",
       "  /* unfitted */\n",
       "  color: var(--sklearn-color-unfitted-level-1);\n",
       "  border: var(--sklearn-color-unfitted-level-1) 1pt solid;\n",
       "}\n",
       "\n",
       "#sk-container-id-5 a.estimator_doc_link.fitted {\n",
       "  /* fitted */\n",
       "  border: var(--sklearn-color-fitted-level-1) 1pt solid;\n",
       "  color: var(--sklearn-color-fitted-level-1);\n",
       "}\n",
       "\n",
       "/* On hover */\n",
       "#sk-container-id-5 a.estimator_doc_link:hover {\n",
       "  /* unfitted */\n",
       "  background-color: var(--sklearn-color-unfitted-level-3);\n",
       "  color: var(--sklearn-color-background);\n",
       "  text-decoration: none;\n",
       "}\n",
       "\n",
       "#sk-container-id-5 a.estimator_doc_link.fitted:hover {\n",
       "  /* fitted */\n",
       "  background-color: var(--sklearn-color-fitted-level-3);\n",
       "}\n",
       "</style><div id=\"sk-container-id-5\" class=\"sk-top-container\"><div class=\"sk-text-repr-fallback\"><pre>LinearRegression()</pre><b>In a Jupyter environment, please rerun this cell to show the HTML representation or trust the notebook. <br />On GitHub, the HTML representation is unable to render, please try loading this page with nbviewer.org.</b></div><div class=\"sk-container\" hidden><div class=\"sk-item\"><div class=\"sk-estimator fitted sk-toggleable\"><input class=\"sk-toggleable__control sk-hidden--visually\" id=\"sk-estimator-id-5\" type=\"checkbox\" checked><label for=\"sk-estimator-id-5\" class=\"sk-toggleable__label fitted sk-toggleable__label-arrow fitted\">&nbsp;&nbsp;LinearRegression<a class=\"sk-estimator-doc-link fitted\" rel=\"noreferrer\" target=\"_blank\" href=\"https://scikit-learn.org/1.4/modules/generated/sklearn.linear_model.LinearRegression.html\">?<span>Documentation for LinearRegression</span></a><span class=\"sk-estimator-doc-link fitted\">i<span>Fitted</span></span></label><div class=\"sk-toggleable__content fitted\"><pre>LinearRegression()</pre></div> </div></div></div></div>"
      ],
      "text/plain": [
       "LinearRegression()"
      ]
     },
     "execution_count": 64,
     "metadata": {},
     "output_type": "execute_result"
    }
   ],
   "source": [
    "lr.fit(X_train,y_train)"
   ]
  },
  {
   "cell_type": "code",
   "execution_count": 65,
   "id": "40d930bc",
   "metadata": {},
   "outputs": [
    {
     "data": {
      "text/plain": [
       "0.40858499961338235"
      ]
     },
     "execution_count": 65,
     "metadata": {},
     "output_type": "execute_result"
    }
   ],
   "source": [
    "y_pred = lr.predict(X_test)\n",
    "r2_score(y_test,y_pred)"
   ]
  },
  {
   "cell_type": "code",
   "execution_count": 66,
   "id": "826ec29a",
   "metadata": {},
   "outputs": [
    {
     "data": {
      "image/png": "[encoded data removed]",
      "text/plain": [
       "<Figure size 640x480 with 1 Axes>"
      ]
     },
     "metadata": {},
     "output_type": "display_data"
    }
   ],
   "source": [
    "plt.plot(X_train,lr.predict(X_train),color='r')\n",
    "plt.plot(X, y, \"b.\")\n",
    "plt.xlabel(\"X\")\n",
    "plt.ylabel(\"y\")\n",
    "plt.show()"
   ]
  },
  {
   "cell_type": "code",
   "execution_count": 67,
   "id": "3499d04b",
   "metadata": {},
   "outputs": [],
   "source": [
    "# Applying Polynomial Linear Regression\n",
    "# degree 2\n",
    "poly = PolynomialFeatures(degree=2,include_bias=True)\n",
    "\n",
    "X_train_trans = poly.fit_transform(X_train)\n",
    "X_test_trans = poly.transform(X_test)"
   ]
  },
  {
   "cell_type": "code",
   "execution_count": 68,
   "id": "be131b5d",
   "metadata": {},
   "outputs": [
    {
     "name": "stdout",
     "output_type": "stream",
     "text": [
      "[-1.81838793]\n",
      "[ 1.         -1.81838793  3.30653468]\n"
     ]
    }
   ],
   "source": [
    "print(X_train[0])\n",
    "print(X_train_trans[0])"
   ]
  },
  {
   "cell_type": "code",
   "execution_count": 69,
   "id": "60691ef2",
   "metadata": {},
   "outputs": [],
   "source": [
    "# include_bias parameter"
   ]
  },
  {
   "cell_type": "code",
   "execution_count": 70,
   "id": "e316df6e",
   "metadata": {},
   "outputs": [
    {
     "data": {
      "text/html": [
       "<style>#sk-container-id-6 {\n",
       "  /* Definition of color scheme common for light and dark mode */\n",
       "  --sklearn-color-text: black;\n",
       "  --sklearn-color-line: gray;\n",
       "  /* Definition of color scheme for unfitted estimators */\n",
       "  --sklearn-color-unfitted-level-0: #fff5e6;\n",
       "  --sklearn-color-unfitted-level-1: #f6e4d2;\n",
       "  --sklearn-color-unfitted-level-2: #ffe0b3;\n",
       "  --sklearn-color-unfitted-level-3: chocolate;\n",
       "  /* Definition of color scheme for fitted estimators */\n",
       "  --sklearn-color-fitted-level-0: #f0f8ff;\n",
       "  --sklearn-color-fitted-level-1: #d4ebff;\n",
       "  --sklearn-color-fitted-level-2: #b3dbfd;\n",
       "  --sklearn-color-fitted-level-3: cornflowerblue;\n",
       "\n",
       "  /* Specific color for light theme */\n",
       "  --sklearn-color-text-on-default-background: var(--sg-text-color, var(--theme-code-foreground, var(--jp-content-font-color1, black)));\n",
       "  --sklearn-color-background: var(--sg-background-color, var(--theme-background, var(--jp-layout-color0, white)));\n",
       "  --sklearn-color-border-box: var(--sg-text-color, var(--theme-code-foreground, var(--jp-content-font-color1, black)));\n",
       "  --sklearn-color-icon: #696969;\n",
       "\n",
       "  @media (prefers-color-scheme: dark) {\n",
       "    /* Redefinition of color scheme for dark theme */\n",
       "    --sklearn-color-text-on-default-background: var(--sg-text-color, var(--theme-code-foreground, var(--jp-content-font-color1, white)));\n",
       "    --sklearn-color-background: var(--sg-background-color, var(--theme-background, var(--jp-layout-color0, #111)));\n",
       "    --sklearn-color-border-box: var(--sg-text-color, var(--theme-code-foreground, var(--jp-content-font-color1, white)));\n",
       "    --sklearn-color-icon: #878787;\n",
       "  }\n",
       "}\n",
       "\n",
       "#sk-container-id-6 {\n",
       "  color: var(--sklearn-color-text);\n",
       "}\n",
       "\n",
       "#sk-container-id-6 pre {\n",
       "  padding: 0;\n",
       "}\n",
       "\n",
       "#sk-container-id-6 input.sk-hidden--visually {\n",
       "  border: 0;\n",
       "  clip: rect(1px 1px 1px 1px);\n",
       "  clip: rect(1px, 1px, 1px, 1px);\n",
       "  height: 1px;\n",
       "  margin: -1px;\n",
       "  overflow: hidden;\n",
       "  padding: 0;\n",
       "  position: absolute;\n",
       "  width: 1px;\n",
       "}\n",
       "\n",
       "#sk-container-id-6 div.sk-dashed-wrapped {\n",
       "  border: 1px dashed var(--sklearn-color-line);\n",
       "  margin: 0 0.4em 0.5em 0.4em;\n",
       "  box-sizing: border-box;\n",
       "  padding-bottom: 0.4em;\n",
       "  background-color: var(--sklearn-color-background);\n",
       "}\n",
       "\n",
       "#sk-container-id-6 div.sk-container {\n",
       "  /* jupyter's `normalize.less` sets `[hidden] { display: none; }`\n",
       "     but bootstrap.min.css set `[hidden] { display: none !important; }`\n",
       "     so we also need the `!important` here to be able to override the\n",
       "     default hidden behavior on the sphinx rendered scikit-learn.org.\n",
       "     See: https://github.com/scikit-learn/scikit-learn/issues/21755 */\n",
       "  display: inline-block !important;\n",
       "  position: relative;\n",
       "}\n",
       "\n",
       "#sk-container-id-6 div.sk-text-repr-fallback {\n",
       "  display: none;\n",
       "}\n",
       "\n",
       "div.sk-parallel-item,\n",
       "div.sk-serial,\n",
       "div.sk-item {\n",
       "  /* draw centered vertical line to link estimators */\n",
       "  background-image: linear-gradient(var(--sklearn-color-text-on-default-background), var(--sklearn-color-text-on-default-background));\n",
       "  background-size: 2px 100%;\n",
       "  background-repeat: no-repeat;\n",
       "  background-position: center center;\n",
       "}\n",
       "\n",
       "/* Parallel-specific style estimator block */\n",
       "\n",
       "#sk-container-id-6 div.sk-parallel-item::after {\n",
       "  content: \"\";\n",
       "  width: 100%;\n",
       "  border-bottom: 2px solid var(--sklearn-color-text-on-default-background);\n",
       "  flex-grow: 1;\n",
       "}\n",
       "\n",
       "#sk-container-id-6 div.sk-parallel {\n",
       "  display: flex;\n",
       "  align-items: stretch;\n",
       "  justify-content: center;\n",
       "  background-color: var(--sklearn-color-background);\n",
       "  position: relative;\n",
       "}\n",
       "\n",
       "#sk-container-id-6 div.sk-parallel-item {\n",
       "  display: flex;\n",
       "  flex-direction: column;\n",
       "}\n",
       "\n",
       "#sk-container-id-6 div.sk-parallel-item:first-child::after {\n",
       "  align-self: flex-end;\n",
       "  width: 50%;\n",
       "}\n",
       "\n",
       "#sk-container-id-6 div.sk-parallel-item:last-child::after {\n",
       "  align-self: flex-start;\n",
       "  width: 50%;\n",
       "}\n",
       "\n",
       "#sk-container-id-6 div.sk-parallel-item:only-child::after {\n",
       "  width: 0;\n",
       "}\n",
       "\n",
       "/* Serial-specific style estimator block */\n",
       "\n",
       "#sk-container-id-6 div.sk-serial {\n",
       "  display: flex;\n",
       "  flex-direction: column;\n",
       "  align-items: center;\n",
       "  background-color: var(--sklearn-color-background);\n",
       "  padding-right: 1em;\n",
       "  padding-left: 1em;\n",
       "}\n",
       "\n",
       "\n",
       "/* Toggleable style: style used for estimator/Pipeline/ColumnTransformer box that is\n",
       "clickable and can be expanded/collapsed.\n",
       "- Pipeline and ColumnTransformer use this feature and define the default style\n",
       "- Estimators will overwrite some part of the style using the `sk-estimator` class\n",
       "*/\n",
       "\n",
       "/* Pipeline and ColumnTransformer style (default) */\n",
       "\n",
       "#sk-container-id-6 div.sk-toggleable {\n",
       "  /* Default theme specific background. It is overwritten whether we have a\n",
       "  specific estimator or a Pipeline/ColumnTransformer */\n",
       "  background-color: var(--sklearn-color-background);\n",
       "}\n",
       "\n",
       "/* Toggleable label */\n",
       "#sk-container-id-6 label.sk-toggleable__label {\n",
       "  cursor: pointer;\n",
       "  display: block;\n",
       "  width: 100%;\n",
       "  margin-bottom: 0;\n",
       "  padding: 0.5em;\n",
       "  box-sizing: border-box;\n",
       "  text-align: center;\n",
       "}\n",
       "\n",
       "#sk-container-id-6 label.sk-toggleable__label-arrow:before {\n",
       "  /* Arrow on the left of the label */\n",
       "  content: \"▸\";\n",
       "  float: left;\n",
       "  margin-right: 0.25em;\n",
       "  color: var(--sklearn-color-icon);\n",
       "}\n",
       "\n",
       "#sk-container-id-6 label.sk-toggleable__label-arrow:hover:before {\n",
       "  color: var(--sklearn-color-text);\n",
       "}\n",
       "\n",
       "/* Toggleable content - dropdown */\n",
       "\n",
       "#sk-container-id-6 div.sk-toggleable__content {\n",
       "  max-height: 0;\n",
       "  max-width: 0;\n",
       "  overflow: hidden;\n",
       "  text-align: left;\n",
       "  /* unfitted */\n",
       "  background-color: var(--sklearn-color-unfitted-level-0);\n",
       "}\n",
       "\n",
       "#sk-container-id-6 div.sk-toggleable__content.fitted {\n",
       "  /* fitted */\n",
       "  background-color: var(--sklearn-color-fitted-level-0);\n",
       "}\n",
       "\n",
       "#sk-container-id-6 div.sk-toggleable__content pre {\n",
       "  margin: 0.2em;\n",
       "  border-radius: 0.25em;\n",
       "  color: var(--sklearn-color-text);\n",
       "  /* unfitted */\n",
       "  background-color: var(--sklearn-color-unfitted-level-0);\n",
       "}\n",
       "\n",
       "#sk-container-id-6 div.sk-toggleable__content.fitted pre {\n",
       "  /* unfitted */\n",
       "  background-color: var(--sklearn-color-fitted-level-0);\n",
       "}\n",
       "\n",
       "#sk-container-id-6 input.sk-toggleable__control:checked~div.sk-toggleable__content {\n",
       "  /* Expand drop-down */\n",
       "  max-height: 200px;\n",
       "  max-width: 100%;\n",
       "  overflow: auto;\n",
       "}\n",
       "\n",
       "#sk-container-id-6 input.sk-toggleable__control:checked~label.sk-toggleable__label-arrow:before {\n",
       "  content: \"▾\";\n",
       "}\n",
       "\n",
       "/* Pipeline/ColumnTransformer-specific style */\n",
       "\n",
       "#sk-container-id-6 div.sk-label input.sk-toggleable__control:checked~label.sk-toggleable__label {\n",
       "  color: var(--sklearn-color-text);\n",
       "  background-color: var(--sklearn-color-unfitted-level-2);\n",
       "}\n",
       "\n",
       "#sk-container-id-6 div.sk-label.fitted input.sk-toggleable__control:checked~label.sk-toggleable__label {\n",
       "  background-color: var(--sklearn-color-fitted-level-2);\n",
       "}\n",
       "\n",
       "/* Estimator-specific style */\n",
       "\n",
       "/* Colorize estimator box */\n",
       "#sk-container-id-6 div.sk-estimator input.sk-toggleable__control:checked~label.sk-toggleable__label {\n",
       "  /* unfitted */\n",
       "  background-color: var(--sklearn-color-unfitted-level-2);\n",
       "}\n",
       "\n",
       "#sk-container-id-6 div.sk-estimator.fitted input.sk-toggleable__control:checked~label.sk-toggleable__label {\n",
       "  /* fitted */\n",
       "  background-color: var(--sklearn-color-fitted-level-2);\n",
       "}\n",
       "\n",
       "#sk-container-id-6 div.sk-label label.sk-toggleable__label,\n",
       "#sk-container-id-6 div.sk-label label {\n",
       "  /* The background is the default theme color */\n",
       "  color: var(--sklearn-color-text-on-default-background);\n",
       "}\n",
       "\n",
       "/* On hover, darken the color of the background */\n",
       "#sk-container-id-6 div.sk-label:hover label.sk-toggleable__label {\n",
       "  color: var(--sklearn-color-text);\n",
       "  background-color: var(--sklearn-color-unfitted-level-2);\n",
       "}\n",
       "\n",
       "/* Label box, darken color on hover, fitted */\n",
       "#sk-container-id-6 div.sk-label.fitted:hover label.sk-toggleable__label.fitted {\n",
       "  color: var(--sklearn-color-text);\n",
       "  background-color: var(--sklearn-color-fitted-level-2);\n",
       "}\n",
       "\n",
       "/* Estimator label */\n",
       "\n",
       "#sk-container-id-6 div.sk-label label {\n",
       "  font-family: monospace;\n",
       "  font-weight: bold;\n",
       "  display: inline-block;\n",
       "  line-height: 1.2em;\n",
       "}\n",
       "\n",
       "#sk-container-id-6 div.sk-label-container {\n",
       "  text-align: center;\n",
       "}\n",
       "\n",
       "/* Estimator-specific */\n",
       "#sk-container-id-6 div.sk-estimator {\n",
       "  font-family: monospace;\n",
       "  border: 1px dotted var(--sklearn-color-border-box);\n",
       "  border-radius: 0.25em;\n",
       "  box-sizing: border-box;\n",
       "  margin-bottom: 0.5em;\n",
       "  /* unfitted */\n",
       "  background-color: var(--sklearn-color-unfitted-level-0);\n",
       "}\n",
       "\n",
       "#sk-container-id-6 div.sk-estimator.fitted {\n",
       "  /* fitted */\n",
       "  background-color: var(--sklearn-color-fitted-level-0);\n",
       "}\n",
       "\n",
       "/* on hover */\n",
       "#sk-container-id-6 div.sk-estimator:hover {\n",
       "  /* unfitted */\n",
       "  background-color: var(--sklearn-color-unfitted-level-2);\n",
       "}\n",
       "\n",
       "#sk-container-id-6 div.sk-estimator.fitted:hover {\n",
       "  /* fitted */\n",
       "  background-color: var(--sklearn-color-fitted-level-2);\n",
       "}\n",
       "\n",
       "/* Specification for estimator info (e.g. \"i\" and \"?\") */\n",
       "\n",
       "/* Common style for \"i\" and \"?\" */\n",
       "\n",
       ".sk-estimator-doc-link,\n",
       "a:link.sk-estimator-doc-link,\n",
       "a:visited.sk-estimator-doc-link {\n",
       "  float: right;\n",
       "  font-size: smaller;\n",
       "  line-height: 1em;\n",
       "  font-family: monospace;\n",
       "  background-color: var(--sklearn-color-background);\n",
       "  border-radius: 1em;\n",
       "  height: 1em;\n",
       "  width: 1em;\n",
       "  text-decoration: none !important;\n",
       "  margin-left: 1ex;\n",
       "  /* unfitted */\n",
       "  border: var(--sklearn-color-unfitted-level-1) 1pt solid;\n",
       "  color: var(--sklearn-color-unfitted-level-1);\n",
       "}\n",
       "\n",
       ".sk-estimator-doc-link.fitted,\n",
       "a:link.sk-estimator-doc-link.fitted,\n",
       "a:visited.sk-estimator-doc-link.fitted {\n",
       "  /* fitted */\n",
       "  border: var(--sklearn-color-fitted-level-1) 1pt solid;\n",
       "  color: var(--sklearn-color-fitted-level-1);\n",
       "}\n",
       "\n",
       "/* On hover */\n",
       "div.sk-estimator:hover .sk-estimator-doc-link:hover,\n",
       ".sk-estimator-doc-link:hover,\n",
       "div.sk-label-container:hover .sk-estimator-doc-link:hover,\n",
       ".sk-estimator-doc-link:hover {\n",
       "  /* unfitted */\n",
       "  background-color: var(--sklearn-color-unfitted-level-3);\n",
       "  color: var(--sklearn-color-background);\n",
       "  text-decoration: none;\n",
       "}\n",
       "\n",
       "div.sk-estimator.fitted:hover .sk-estimator-doc-link.fitted:hover,\n",
       ".sk-estimator-doc-link.fitted:hover,\n",
       "div.sk-label-container:hover .sk-estimator-doc-link.fitted:hover,\n",
       ".sk-estimator-doc-link.fitted:hover {\n",
       "  /* fitted */\n",
       "  background-color: var(--sklearn-color-fitted-level-3);\n",
       "  color: var(--sklearn-color-background);\n",
       "  text-decoration: none;\n",
       "}\n",
       "\n",
       "/* Span, style for the box shown on hovering the info icon */\n",
       ".sk-estimator-doc-link span {\n",
       "  display: none;\n",
       "  z-index: 9999;\n",
       "  position: relative;\n",
       "  font-weight: normal;\n",
       "  right: .2ex;\n",
       "  padding: .5ex;\n",
       "  margin: .5ex;\n",
       "  width: min-content;\n",
       "  min-width: 20ex;\n",
       "  max-width: 50ex;\n",
       "  color: var(--sklearn-color-text);\n",
       "  box-shadow: 2pt 2pt 4pt #999;\n",
       "  /* unfitted */\n",
       "  background: var(--sklearn-color-unfitted-level-0);\n",
       "  border: .5pt solid var(--sklearn-color-unfitted-level-3);\n",
       "}\n",
       "\n",
       ".sk-estimator-doc-link.fitted span {\n",
       "  /* fitted */\n",
       "  background: var(--sklearn-color-fitted-level-0);\n",
       "  border: var(--sklearn-color-fitted-level-3);\n",
       "}\n",
       "\n",
       ".sk-estimator-doc-link:hover span {\n",
       "  display: block;\n",
       "}\n",
       "\n",
       "/* \"?\"-specific style due to the `<a>` HTML tag */\n",
       "\n",
       "#sk-container-id-6 a.estimator_doc_link {\n",
       "  float: right;\n",
       "  font-size: 1rem;\n",
       "  line-height: 1em;\n",
       "  font-family: monospace;\n",
       "  background-color: var(--sklearn-color-background);\n",
       "  border-radius: 1rem;\n",
       "  height: 1rem;\n",
       "  width: 1rem;\n",
       "  text-decoration: none;\n",
       "  /* unfitted */\n",
       "  color: var(--sklearn-color-unfitted-level-1);\n",
       "  border: var(--sklearn-color-unfitted-level-1) 1pt solid;\n",
       "}\n",
       "\n",
       "#sk-container-id-6 a.estimator_doc_link.fitted {\n",
       "  /* fitted */\n",
       "  border: var(--sklearn-color-fitted-level-1) 1pt solid;\n",
       "  color: var(--sklearn-color-fitted-level-1);\n",
       "}\n",
       "\n",
       "/* On hover */\n",
       "#sk-container-id-6 a.estimator_doc_link:hover {\n",
       "  /* unfitted */\n",
       "  background-color: var(--sklearn-color-unfitted-level-3);\n",
       "  color: var(--sklearn-color-background);\n",
       "  text-decoration: none;\n",
       "}\n",
       "\n",
       "#sk-container-id-6 a.estimator_doc_link.fitted:hover {\n",
       "  /* fitted */\n",
       "  background-color: var(--sklearn-color-fitted-level-3);\n",
       "}\n",
       "</style><div id=\"sk-container-id-6\" class=\"sk-top-container\"><div class=\"sk-text-repr-fallback\"><pre>LinearRegression()</pre><b>In a Jupyter environment, please rerun this cell to show the HTML representation or trust the notebook. <br />On GitHub, the HTML representation is unable to render, please try loading this page with nbviewer.org.</b></div><div class=\"sk-container\" hidden><div class=\"sk-item\"><div class=\"sk-estimator fitted sk-toggleable\"><input class=\"sk-toggleable__control sk-hidden--visually\" id=\"sk-estimator-id-6\" type=\"checkbox\" checked><label for=\"sk-estimator-id-6\" class=\"sk-toggleable__label fitted sk-toggleable__label-arrow fitted\">&nbsp;&nbsp;LinearRegression<a class=\"sk-estimator-doc-link fitted\" rel=\"noreferrer\" target=\"_blank\" href=\"https://scikit-learn.org/1.4/modules/generated/sklearn.linear_model.LinearRegression.html\">?<span>Documentation for LinearRegression</span></a><span class=\"sk-estimator-doc-link fitted\">i<span>Fitted</span></span></label><div class=\"sk-toggleable__content fitted\"><pre>LinearRegression()</pre></div> </div></div></div></div>"
      ],
      "text/plain": [
       "LinearRegression()"
      ]
     },
     "execution_count": 70,
     "metadata": {},
     "output_type": "execute_result"
    }
   ],
   "source": [
    "lr = LinearRegression()\n",
    "lr.fit(X_train_trans,y_train)"
   ]
  },
  {
   "cell_type": "code",
   "execution_count": 71,
   "id": "ff5960ed",
   "metadata": {},
   "outputs": [],
   "source": [
    "y_pred = lr.predict(X_test_trans)"
   ]
  },
  {
   "cell_type": "code",
   "execution_count": 72,
   "id": "3b2af778",
   "metadata": {},
   "outputs": [
    {
     "data": {
      "text/plain": [
       "0.9043766042187525"
      ]
     },
     "execution_count": 72,
     "metadata": {},
     "output_type": "execute_result"
    }
   ],
   "source": [
    "r2_score(y_test,y_pred)"
   ]
  },
  {
   "cell_type": "code",
   "execution_count": 73,
   "id": "1d5ac42b",
   "metadata": {},
   "outputs": [
    {
     "name": "stdout",
     "output_type": "stream",
     "text": [
      "[[0.         0.94789388 0.80527513]]\n",
      "[1.93123807]\n"
     ]
    }
   ],
   "source": [
    "print(lr.coef_)\n",
    "print(lr.intercept_)"
   ]
  },
  {
   "cell_type": "code",
   "execution_count": 74,
   "id": "d3a4d4be",
   "metadata": {},
   "outputs": [],
   "source": [
    "X_new=np.linspace(-3, 3, 200).reshape(200, 1)\n",
    "X_new_poly = poly.transform(X_new)\n",
    "y_new = lr.predict(X_new_poly)"
   ]
  },
  {
   "cell_type": "code",
   "execution_count": 75,
   "id": "99d73c4e",
   "metadata": {},
   "outputs": [
    {
     "data": {
      "image/png": "[encoded data removed]",
      "text/plain": [
       "<Figure size 640x480 with 1 Axes>"
      ]
     },
     "metadata": {},
     "output_type": "display_data"
    }
   ],
   "source": [
    "plt.plot(X_new, y_new, \"r-\", linewidth=2, label=\"Predictions\")\n",
    "plt.plot(X_train, y_train, \"b.\",label='Training points')\n",
    "plt.plot(X_test, y_test, \"g.\",label='Testing points')\n",
    "plt.xlabel(\"X\")\n",
    "plt.ylabel(\"y\")\n",
    "plt.legend()\n",
    "plt.show()"
   ]
  },
  {
   "cell_type": "code",
   "execution_count": 76,
   "id": "4313857c",
   "metadata": {},
   "outputs": [],
   "source": [
    "def polynomial_regression(degree):\n",
    "    X_new=np.linspace(-3, 3, 100).reshape(100, 1)\n",
    "    X_new_poly = poly.transform(X_new)\n",
    "\n",
    "    polybig_features = PolynomialFeatures(degree=degree, include_bias=False)\n",
    "    std_scaler = StandardScaler()\n",
    "    lin_reg = LinearRegression()\n",
    "    polynomial_regression = Pipeline([\n",
    "            (\"poly_features\", polybig_features),\n",
    "            (\"std_scaler\", std_scaler),\n",
    "            (\"lin_reg\", lin_reg),\n",
    "        ])\n",
    "    polynomial_regression.fit(X, y)\n",
    "    y_newbig = polynomial_regression.predict(X_new)\n",
    "    plt.plot(X_new, y_newbig,'r', label=\"Degree \" + str(degree), linewidth=2)\n",
    "\n",
    "    plt.plot(X_train, y_train, \"b.\", linewidth=3)\n",
    "    plt.plot(X_test, y_test, \"g.\", linewidth=3)\n",
    "    plt.legend(loc=\"upper left\")\n",
    "    plt.xlabel(\"X\")\n",
    "    plt.ylabel(\"y\")\n",
    "    plt.axis([-3, 3, 0, 10])\n",
    "    plt.show()"
   ]
  },
  {
   "cell_type": "code",
   "execution_count": 77,
   "id": "8e56415e",
   "metadata": {},
   "outputs": [
    {
     "data": {
      "image/png": "[encoded data removed]",
      "text/plain": [
       "<Figure size 640x480 with 1 Axes>"
      ]
     },
     "metadata": {},
     "output_type": "display_data"
    }
   ],
   "source": [
    "polynomial_regression(50)"
   ]
  },
  {
   "cell_type": "code",
   "execution_count": 78,
   "id": "7da24a4b",
   "metadata": {},
   "outputs": [
    {
     "data": {
      "text/plain": [
       "array([[0],\n",
       "       [1],\n",
       "       [2]], dtype=int64)"
      ]
     },
     "execution_count": 78,
     "metadata": {},
     "output_type": "execute_result"
    }
   ],
   "source": [
    "poly.powers_"
   ]
  },
  {
   "cell_type": "code",
   "execution_count": 79,
   "id": "fb0d9c8e",
   "metadata": {},
   "outputs": [
    {
     "name": "stderr",
     "output_type": "stream",
     "text": [
      "c:\\Users\\SVI\\AppData\\Local\\Programs\\Python\\Python312\\Lib\\site-packages\\sklearn\\utils\\validation.py:1300: DataConversionWarning:\n",
      "\n",
      "A column-vector y was passed when a 1d array was expected. Please change the shape of y to (n_samples, ), for example using ravel().\n",
      "\n"
     ]
    },
    {
     "data": {
      "image/png": "[encoded data removed]",
      "text/plain": [
       "<Figure size 640x480 with 1 Axes>"
      ]
     },
     "metadata": {},
     "output_type": "display_data"
    }
   ],
   "source": [
    "# Applying Gradient Descent\n",
    "\n",
    "poly = PolynomialFeatures(degree=2)\n",
    "\n",
    "X_train_trans = poly.fit_transform(X_train)\n",
    "X_test_trans = poly.transform(X_test)\n",
    "\n",
    "sgd = SGDRegressor(max_iter=100)\n",
    "sgd.fit(X_train_trans,y_train)\n",
    "\n",
    "X_new=np.linspace(-2.9, 2.8, 200).reshape(200, 1)\n",
    "X_new_poly = poly.transform(X_new)\n",
    "y_new = sgd.predict(X_new_poly)\n",
    "\n",
    "y_pred = sgd.predict(X_test_trans)\n",
    "\n",
    "plt.plot(X_new, y_new, \"r-\", linewidth=2, label=\"Predictions \" + str(round(r2_score(y_test,y_pred),2)))\n",
    "plt.plot(X_train, y_train, \"b.\",label='Training points')\n",
    "plt.plot(X_test, y_test, \"g.\",label='Testing points')\n",
    "plt.xlabel(\"X\")\n",
    "plt.ylabel(\"y\")\n",
    "plt.legend()\n",
    "plt.show()"
   ]
  },
  {
   "cell_type": "code",
   "execution_count": 80,
   "id": "c3427a03",
   "metadata": {},
   "outputs": [],
   "source": [
    "# 3D polynomial regression\n",
    "x = 7 * np.random.rand(100, 1) - 2.8\n",
    "y = 7 * np.random.rand(100, 1) - 2.8\n",
    "\n",
    "z = x**2 + y**2 + 0.2*x + 0.2*y + 0.1*x*y +2 + np.random.randn(100, 1)\n",
    "# z = x^2 + y^2 + 0.2x + 0.2y + 0.1xy + 2"
   ]
  },
  {
   "cell_type": "code",
   "execution_count": 81,
   "id": "869809ab",
   "metadata": {},
   "outputs": [
    {
     "data": {
      "application/vnd.plotly.v1+json": {
       "config": {
        "plotlyServerURL": "https://plot.ly"
       },
       "data": [
        {
         "hovertemplate": "x=%{x}<br>y=%{y}<br>z=%{z}<extra></extra>",
         "legendgroup": "",
         "marker": {
          "color": "#636efa",
          "symbol": "circle"
         },
         "mode": "markers",
         "name": "",
         "scene": "scene",
         "showlegend": false,
         "type": "scatter3d",
         "x": [
          -1.8455456021913594,
          -0.7744550276240689,
          1.5983854006643812,
          -2.6521379546816397,
          4.053245881709798,
          1.3128267710555974,
          1.0395286772986596,
          -1.6864719254667913,
          -0.46151628519725474,
          1.8173839978654511,
          -1.5068188100214268,
          -1.9327358146388773,
          1.7047602216856497,
          -0.4554948645441974,
          1.0147544655367735,
          1.9487954683056126,
          -2.0427914118121198,
          2.249680884478468,
          -1.843197771342794,
          1.8021523504623405,
          -2.4618464068161994,
          -0.44878684193172713,
          0.3314344982986954,
          0.6448530278785904,
          -0.6620606770780624,
          3.2914334090145765,
          3.1346596643816618,
          2.877709831871015,
          0.20827936746663633,
          1.5546741660131485,
          1.9283762865158316,
          0.29222015148583536,
          3.951789291787046,
          -1.0154576728430518,
          2.7500194029044582,
          0.3329555894376375,
          0.9527083358978521,
          2.33893062358331,
          1.3870517615719304,
          2.4657801052417216,
          -2.0061749621897627,
          4.019113044908142,
          2.0186989038329983,
          -2.294183233932135,
          -1.665231063184656,
          0.22764194849450448,
          1.8130977731330615,
          0.02615031916834676,
          -0.48281914246655555,
          2.946129073290818,
          0.38708455094011285,
          -0.40910941014716906,
          3.649627739849758,
          1.207867922835825,
          -2.6881162131407734,
          1.3127171168013323,
          3.168731769514327,
          -1.1137742558441408,
          -1.8563168862407244,
          -0.4039583807814613,
          -2.187240200568578,
          -0.3631270705765828,
          -2.0571520989977286,
          -0.8092441588389521,
          3.126446436976779,
          -1.8847943994087624,
          1.3325255230741853,
          -0.48582786539439526,
          0.9800291901610496,
          1.773642916551803,
          -2.494897561221094,
          -1.092845689570966,
          2.0889509782498985,
          -2.330859032239082,
          0.7057896352887418,
          2.3060432675929787,
          0.034602562424764116,
          3.044233347350869,
          -2.45786326915793,
          -1.9004651370633834,
          -0.04317321811079955,
          -0.9465482998750505,
          0.3540455839935768,
          2.561033740586809,
          -2.4464758472958454,
          4.1230378803253895,
          3.626397329745431,
          3.896396257096577,
          -1.9756022158290434,
          3.5659929958845797,
          3.7273351986605627,
          -1.572744429495794,
          3.0721437248774004,
          3.5301071896615275,
          2.206581977834227,
          1.470609337387737,
          -2.6024311195876852,
          -0.11307063987217081,
          -1.1521902504168373,
          3.012613787457636
         ],
         "y": [
          -2.1236805646475494,
          3.744194008864735,
          -2.240567532567278,
          0.041054285746523256,
          -0.6817859322445861,
          -1.3695430171699885,
          -0.6904589018296723,
          -0.12235263692313803,
          1.2677456124040178,
          -1.4899888448049745,
          3.777826971477075,
          0.8794526071276838,
          4.074210800318442,
          0.8743074914683517,
          -2.327154303452404,
          -1.1418460063186584,
          -0.7786957381799842,
          2.5638901026084424,
          -1.081935489250415,
          1.185824621190652,
          2.2385664631603284,
          2.238483858173505,
          -2.0949410104920516,
          2.7974931873517637,
          -2.2397242451865633,
          3.8568669373408495,
          0.6776945763808664,
          2.2894915447775936,
          -0.2484157210732607,
          0.013776686846089348,
          1.0714573068747728,
          2.0831281827027333,
          -0.26555120810396327,
          3.8265617636409965,
          2.280218551992106,
          -2.122624570759806,
          3.056790319314163,
          1.8314505879634044,
          0.6600873664886926,
          -2.7510725969128558,
          1.3755126457678912,
          1.8985582735689057,
          -0.5905017314157579,
          2.9247451574359538,
          0.9505377472244168,
          2.368880818899865,
          1.7847113120263165,
          -2.142974168553374,
          3.761246388624392,
          2.9154605032116105,
          2.3256252050034263,
          3.5976584440533337,
          -2.068078760364901,
          1.0740275769316145,
          2.7070004089203117,
          1.5559083029723109,
          2.3214495849273833,
          0.767834389650099,
          -2.547424486524365,
          -2.4371408371332137,
          4.010450190447375,
          -2.2660808403895407,
          -0.14851151063031232,
          -1.9905830991910638,
          3.5455708838748494,
          2.999128150994899,
          -2.230984844913915,
          2.8550662064808234,
          1.4423080361645084,
          3.974388244470285,
          -0.4077384481387818,
          3.969814059822066,
          -0.7136325383529072,
          -0.04313047955510996,
          -2.3771166166948214,
          -1.0912539482299233,
          1.9163381310498169,
          -2.2613819220419034,
          0.8299596936112037,
          -2.2025071516813863,
          -0.7145846726126099,
          -0.5671645863805161,
          2.521649470095544,
          0.1577017771484046,
          4.1253977049153745,
          2.3298295258819053,
          -0.32447334897908364,
          -1.5250510452687929,
          1.4281438529182413,
          1.5883967179487373,
          -0.8366384207790845,
          -1.0986583080482384,
          0.40346950053781994,
          -0.8745920656934596,
          2.6063473859261093,
          -2.594310422903784,
          3.0113577764918977,
          0.008168749065214254,
          4.00592059375328,
          2.2219177413522866
         ],
         "z": [
          9.917732790076162,
          15.672863631062551,
          8.173417245987448,
          9.04733155555315,
          18.097706534490097,
          4.843404150336137,
          2.878705519118976,
          5.815390495502026,
          6.281593799547766,
          9.365775462731733,
          19.902580709268648,
          6.299701397212706,
          23.323368440166796,
          3.7397829029675043,
          9.237694289687559,
          8.281987985582532,
          5.835234652477842,
          14.955604391369933,
          6.478342434794107,
          7.167992046548925,
          14.13066889312223,
          7.160947078853373,
          5.233695927019479,
          9.007866183265607,
          7.437784707260943,
          29.08394694692239,
          14.006489916337838,
          18.983262257139447,
          2.0114920270728116,
          4.6353294077630665,
          6.671209721730781,
          7.787310882806869,
          19.395735252662703,
          18.008111458514218,
          14.897532664411798,
          7.208210344474478,
          13.255138058539563,
          12.464294615175254,
          4.7527915502932165,
          13.832179885545553,
          7.551855571624822,
          24.44759765181942,
          6.270545004257797,
          15.966694661883253,
          3.941664492044864,
          9.17892887607805,
          7.96198698498689,
          5.858003583583973,
          14.738984556524105,
          19.707804667944185,
          8.130566975860145,
          17.08148271323739,
          19.634834324861334,
          4.932377716974388,
          16.521147317355116,
          5.3347292579091485,
          17.323439429823605,
          4.001798440633847,
          11.13181361343668,
          7.976418260958076,
          21.642900966288945,
          6.567785090812162,
          7.033806940456675,
          6.540861393554533,
          25.188041968319677,
          13.46455857906507,
          7.57328714279857,
          11.57771491037006,
          6.035138360620482,
          24.641233510121292,
          7.888455167713246,
          17.748964289252232,
          8.183614678204462,
          7.209367500048051,
          8.794833949829586,
          7.3331615324462724,
          7.529519434010755,
          14.547390189078754,
          8.369558812573388,
          11.391608339268352,
          1.7751996069149505,
          3.6374916696053443,
          8.760709373024241,
          10.663764015637861,
          22.730688041601375,
          27.914125265332537,
          15.776103057632374,
          20.949383696589226,
          7.911489143868771,
          18.9258491080986,
          16.766034327009013,
          5.106066905498762,
          13.193573779149903,
          12.71022785503595,
          15.902331435235782,
          10.698865170104185,
          18.61985339066705,
          0.8567040919834279,
          20.353998295192554,
          18.588346380362747
         ]
        }
       ],
       "layout": {
        "legend": {
         "tracegroupgap": 0
        },
        "margin": {
         "t": 60
        },
        "scene": {
         "domain": {
          "x": [
           0,
           1
          ],
          "y": [
           0,
           1
          ]
         },
         "xaxis": {
          "title": {
           "text": "x"
          }
         },
         "yaxis": {
          "title": {
           "text": "y"
          }
         },
         "zaxis": {
          "title": {
           "text": "z"
          }
         }
        },
        "template": {
         "data": {
          "bar": [
           {
            "error_x": {
             "color": "#2a3f5f"
            },
            "error_y": {
             "color": "#2a3f5f"
            },
            "marker": {
             "line": {
              "color": "#E5ECF6",
              "width": 0.5
             },
             "pattern": {
              "fillmode": "overlay",
              "size": 10,
              "solidity": 0.2
             }
            },
            "type": "bar"
           }
          ],
          "barpolar": [
           {
            "marker": {
             "line": {
              "color": "#E5ECF6",
              "width": 0.5
             },
             "pattern": {
              "fillmode": "overlay",
              "size": 10,
              "solidity": 0.2
             }
            },
            "type": "barpolar"
           }
          ],
          "carpet": [
           {
            "aaxis": {
             "endlinecolor": "#2a3f5f",
             "gridcolor": "white",
             "linecolor": "white",
             "minorgridcolor": "white",
             "startlinecolor": "#2a3f5f"
            },
            "baxis": {
             "endlinecolor": "#2a3f5f",
             "gridcolor": "white",
             "linecolor": "white",
             "minorgridcolor": "white",
             "startlinecolor": "#2a3f5f"
            },
            "type": "carpet"
           }
          ],
          "choropleth": [
           {
            "colorbar": {
             "outlinewidth": 0,
             "ticks": ""
            },
            "type": "choropleth"
           }
          ],
          "contour": [
           {
            "colorbar": {
             "outlinewidth": 0,
             "ticks": ""
            },
            "colorscale": [
             [
              0,
              "#0d0887"
             ],
             [
              0.1111111111111111,
              "#46039f"
             ],
             [
              0.2222222222222222,
              "#7201a8"
             ],
             [
              0.3333333333333333,
              "#9c179e"
             ],
             [
              0.4444444444444444,
              "#bd3786"
             ],
             [
              0.5555555555555556,
              "#d8576b"
             ],
             [
              0.6666666666666666,
              "#ed7953"
             ],
             [
              0.7777777777777778,
              "#fb9f3a"
             ],
             [
              0.8888888888888888,
              "#fdca26"
             ],
             [
              1,
              "#f0f921"
             ]
            ],
            "type": "contour"
           }
          ],
          "contourcarpet": [
           {
            "colorbar": {
             "outlinewidth": 0,
             "ticks": ""
            },
            "type": "contourcarpet"
           }
          ],
          "heatmap": [
           {
            "colorbar": {
             "outlinewidth": 0,
             "ticks": ""
            },
            "colorscale": [
             [
              0,
              "#0d0887"
             ],
             [
              0.1111111111111111,
              "#46039f"
             ],
             [
              0.2222222222222222,
              "#7201a8"
             ],
             [
              0.3333333333333333,
              "#9c179e"
             ],
             [
              0.4444444444444444,
              "#bd3786"
             ],
             [
              0.5555555555555556,
              "#d8576b"
             ],
             [
              0.6666666666666666,
              "#ed7953"
             ],
             [
              0.7777777777777778,
              "#fb9f3a"
             ],
             [
              0.8888888888888888,
              "#fdca26"
             ],
             [
              1,
              "#f0f921"
             ]
            ],
            "type": "heatmap"
           }
          ],
          "heatmapgl": [
           {
            "colorbar": {
             "outlinewidth": 0,
             "ticks": ""
            },
            "colorscale": [
             [
              0,
              "#0d0887"
             ],
             [
              0.1111111111111111,
              "#46039f"
             ],
             [
              0.2222222222222222,
              "#7201a8"
             ],
             [
              0.3333333333333333,
              "#9c179e"
             ],
             [
              0.4444444444444444,
              "#bd3786"
             ],
             [
              0.5555555555555556,
              "#d8576b"
             ],
             [
              0.6666666666666666,
              "#ed7953"
             ],
             [
              0.7777777777777778,
              "#fb9f3a"
             ],
             [
              0.8888888888888888,
              "#fdca26"
             ],
             [
              1,
              "#f0f921"
             ]
            ],
            "type": "heatmapgl"
           }
          ],
          "histogram": [
           {
            "marker": {
             "pattern": {
              "fillmode": "overlay",
              "size": 10,
              "solidity": 0.2
             }
            },
            "type": "histogram"
           }
          ],
          "histogram2d": [
           {
            "colorbar": {
             "outlinewidth": 0,
             "ticks": ""
            },
            "colorscale": [
             [
              0,
              "#0d0887"
             ],
             [
              0.1111111111111111,
              "#46039f"
             ],
             [
              0.2222222222222222,
              "#7201a8"
             ],
             [
              0.3333333333333333,
              "#9c179e"
             ],
             [
              0.4444444444444444,
              "#bd3786"
             ],
             [
              0.5555555555555556,
              "#d8576b"
             ],
             [
              0.6666666666666666,
              "#ed7953"
             ],
             [
              0.7777777777777778,
              "#fb9f3a"
             ],
             [
              0.8888888888888888,
              "#fdca26"
             ],
             [
              1,
              "#f0f921"
             ]
            ],
            "type": "histogram2d"
           }
          ],
          "histogram2dcontour": [
           {
            "colorbar": {
             "outlinewidth": 0,
             "ticks": ""
            },
            "colorscale": [
             [
              0,
              "#0d0887"
             ],
             [
              0.1111111111111111,
              "#46039f"
             ],
             [
              0.2222222222222222,
              "#7201a8"
             ],
             [
              0.3333333333333333,
              "#9c179e"
             ],
             [
              0.4444444444444444,
              "#bd3786"
             ],
             [
              0.5555555555555556,
              "#d8576b"
             ],
             [
              0.6666666666666666,
              "#ed7953"
             ],
             [
              0.7777777777777778,
              "#fb9f3a"
             ],
             [
              0.8888888888888888,
              "#fdca26"
             ],
             [
              1,
              "#f0f921"
             ]
            ],
            "type": "histogram2dcontour"
           }
          ],
          "mesh3d": [
           {
            "colorbar": {
             "outlinewidth": 0,
             "ticks": ""
            },
            "type": "mesh3d"
           }
          ],
          "parcoords": [
           {
            "line": {
             "colorbar": {
              "outlinewidth": 0,
              "ticks": ""
             }
            },
            "type": "parcoords"
           }
          ],
          "pie": [
           {
            "automargin": true,
            "type": "pie"
           }
          ],
          "scatter": [
           {
            "fillpattern": {
             "fillmode": "overlay",
             "size": 10,
             "solidity": 0.2
            },
            "type": "scatter"
           }
          ],
          "scatter3d": [
           {
            "line": {
             "colorbar": {
              "outlinewidth": 0,
              "ticks": ""
             }
            },
            "marker": {
             "colorbar": {
              "outlinewidth": 0,
              "ticks": ""
             }
            },
            "type": "scatter3d"
           }
          ],
          "scattercarpet": [
           {
            "marker": {
             "colorbar": {
              "outlinewidth": 0,
              "ticks": ""
             }
            },
            "type": "scattercarpet"
           }
          ],
          "scattergeo": [
           {
            "marker": {
             "colorbar": {
              "outlinewidth": 0,
              "ticks": ""
             }
            },
            "type": "scattergeo"
           }
          ],
          "scattergl": [
           {
            "marker": {
             "colorbar": {
              "outlinewidth": 0,
              "ticks": ""
             }
            },
            "type": "scattergl"
           }
          ],
          "scattermapbox": [
           {
            "marker": {
             "colorbar": {
              "outlinewidth": 0,
              "ticks": ""
             }
            },
            "type": "scattermapbox"
           }
          ],
          "scatterpolar": [
           {
            "marker": {
             "colorbar": {
              "outlinewidth": 0,
              "ticks": ""
             }
            },
            "type": "scatterpolar"
           }
          ],
          "scatterpolargl": [
           {
            "marker": {
             "colorbar": {
              "outlinewidth": 0,
              "ticks": ""
             }
            },
            "type": "scatterpolargl"
           }
          ],
          "scatterternary": [
           {
            "marker": {
             "colorbar": {
              "outlinewidth": 0,
              "ticks": ""
             }
            },
            "type": "scatterternary"
           }
          ],
          "surface": [
           {
            "colorbar": {
             "outlinewidth": 0,
             "ticks": ""
            },
            "colorscale": [
             [
              0,
              "#0d0887"
             ],
             [
              0.1111111111111111,
              "#46039f"
             ],
             [
              0.2222222222222222,
              "#7201a8"
             ],
             [
              0.3333333333333333,
              "#9c179e"
             ],
             [
              0.4444444444444444,
              "#bd3786"
             ],
             [
              0.5555555555555556,
              "#d8576b"
             ],
             [
              0.6666666666666666,
              "#ed7953"
             ],
             [
              0.7777777777777778,
              "#fb9f3a"
             ],
             [
              0.8888888888888888,
              "#fdca26"
             ],
             [
              1,
              "#f0f921"
             ]
            ],
            "type": "surface"
           }
          ],
          "table": [
           {
            "cells": {
             "fill": {
              "color": "#EBF0F8"
             },
             "line": {
              "color": "white"
             }
            },
            "header": {
             "fill": {
              "color": "#C8D4E3"
             },
             "line": {
              "color": "white"
             }
            },
            "type": "table"
           }
          ]
         },
         "layout": {
          "annotationdefaults": {
           "arrowcolor": "#2a3f5f",
           "arrowhead": 0,
           "arrowwidth": 1
          },
          "autotypenumbers": "strict",
          "coloraxis": {
           "colorbar": {
            "outlinewidth": 0,
            "ticks": ""
           }
          },
          "colorscale": {
           "diverging": [
            [
             0,
             "#8e0152"
            ],
            [
             0.1,
             "#c51b7d"
            ],
            [
             0.2,
             "#de77ae"
            ],
            [
             0.3,
             "#f1b6da"
            ],
            [
             0.4,
             "#fde0ef"
            ],
            [
             0.5,
             "#f7f7f7"
            ],
            [
             0.6,
             "#e6f5d0"
            ],
            [
             0.7,
             "#b8e186"
            ],
            [
             0.8,
             "#7fbc41"
            ],
            [
             0.9,
             "#4d9221"
            ],
            [
             1,
             "#276419"
            ]
           ],
           "sequential": [
            [
             0,
             "#0d0887"
            ],
            [
             0.1111111111111111,
             "#46039f"
            ],
            [
             0.2222222222222222,
             "#7201a8"
            ],
            [
             0.3333333333333333,
             "#9c179e"
            ],
            [
             0.4444444444444444,
             "#bd3786"
            ],
            [
             0.5555555555555556,
             "#d8576b"
            ],
            [
             0.6666666666666666,
             "#ed7953"
            ],
            [
             0.7777777777777778,
             "#fb9f3a"
            ],
            [
             0.8888888888888888,
             "#fdca26"
            ],
            [
             1,
             "#f0f921"
            ]
           ],
           "sequentialminus": [
            [
             0,
             "#0d0887"
            ],
            [
             0.1111111111111111,
             "#46039f"
            ],
            [
             0.2222222222222222,
             "#7201a8"
            ],
            [
             0.3333333333333333,
             "#9c179e"
            ],
            [
             0.4444444444444444,
             "#bd3786"
            ],
            [
             0.5555555555555556,
             "#d8576b"
            ],
            [
             0.6666666666666666,
             "#ed7953"
            ],
            [
             0.7777777777777778,
             "#fb9f3a"
            ],
            [
             0.8888888888888888,
             "#fdca26"
            ],
            [
             1,
             "#f0f921"
            ]
           ]
          },
          "colorway": [
           "#636efa",
           "#EF553B",
           "#00cc96",
           "#ab63fa",
           "#FFA15A",
           "#19d3f3",
           "#FF6692",
           "#B6E880",
           "#FF97FF",
           "#FECB52"
          ],
          "font": {
           "color": "#2a3f5f"
          },
          "geo": {
           "bgcolor": "white",
           "lakecolor": "white",
           "landcolor": "#E5ECF6",
           "showlakes": true,
           "showland": true,
           "subunitcolor": "white"
          },
          "hoverlabel": {
           "align": "left"
          },
          "hovermode": "closest",
          "mapbox": {
           "style": "light"
          },
          "paper_bgcolor": "white",
          "plot_bgcolor": "#E5ECF6",
          "polar": {
           "angularaxis": {
            "gridcolor": "white",
            "linecolor": "white",
            "ticks": ""
           },
           "bgcolor": "#E5ECF6",
           "radialaxis": {
            "gridcolor": "white",
            "linecolor": "white",
            "ticks": ""
           }
          },
          "scene": {
           "xaxis": {
            "backgroundcolor": "#E5ECF6",
            "gridcolor": "white",
            "gridwidth": 2,
            "linecolor": "white",
            "showbackground": true,
            "ticks": "",
            "zerolinecolor": "white"
           },
           "yaxis": {
            "backgroundcolor": "#E5ECF6",
            "gridcolor": "white",
            "gridwidth": 2,
            "linecolor": "white",
            "showbackground": true,
            "ticks": "",
            "zerolinecolor": "white"
           },
           "zaxis": {
            "backgroundcolor": "#E5ECF6",
            "gridcolor": "white",
            "gridwidth": 2,
            "linecolor": "white",
            "showbackground": true,
            "ticks": "",
            "zerolinecolor": "white"
           }
          },
          "shapedefaults": {
           "line": {
            "color": "#2a3f5f"
           }
          },
          "ternary": {
           "aaxis": {
            "gridcolor": "white",
            "linecolor": "white",
            "ticks": ""
           },
           "baxis": {
            "gridcolor": "white",
            "linecolor": "white",
            "ticks": ""
           },
           "bgcolor": "#E5ECF6",
           "caxis": {
            "gridcolor": "white",
            "linecolor": "white",
            "ticks": ""
           }
          },
          "title": {
           "x": 0.05
          },
          "xaxis": {
           "automargin": true,
           "gridcolor": "white",
           "linecolor": "white",
           "ticks": "",
           "title": {
            "standoff": 15
           },
           "zerolinecolor": "white",
           "zerolinewidth": 2
          },
          "yaxis": {
           "automargin": true,
           "gridcolor": "white",
           "linecolor": "white",
           "ticks": "",
           "title": {
            "standoff": 15
           },
           "zerolinecolor": "white",
           "zerolinewidth": 2
          }
         }
        }
       }
      }
     },
     "metadata": {},
     "output_type": "display_data"
    }
   ],
   "source": [
    "import plotly.express as px\n",
    "df = px.data.iris()\n",
    "fig = px.scatter_3d(df, x=x.ravel(), y=y.ravel(), z=z.ravel())\n",
    "fig.show()"
   ]
  },
  {
   "cell_type": "code",
   "execution_count": 82,
   "id": "30f6256e",
   "metadata": {},
   "outputs": [],
   "source": [
    "lr = LinearRegression()\n",
    "lr.fit(np.array([x,y]).reshape(100,2),z)\n",
    "\n",
    "x_input = np.linspace(x.min(), x.max(), 10)\n",
    "y_input = np.linspace(y.min(), y.max(), 10)\n",
    "xGrid, yGrid = np.meshgrid(x_input,y_input)\n",
    "\n",
    "final = np.vstack((xGrid.ravel().reshape(1,100),yGrid.ravel().reshape(1,100))).T\n",
    "\n",
    "z_final = lr.predict(final).reshape(10,10)\n",
    "\n"
   ]
  },
  {
   "cell_type": "code",
   "execution_count": 83,
   "id": "59f98047",
   "metadata": {},
   "outputs": [
    {
     "data": {
      "application/vnd.plotly.v1+json": {
       "config": {
        "plotlyServerURL": "https://plot.ly"
       },
       "data": [
        {
         "hovertemplate": "x=%{x}<br>y=%{y}<br>z=%{z}<extra></extra>",
         "legendgroup": "",
         "marker": {
          "color": "#636efa",
          "symbol": "circle"
         },
         "mode": "markers",
         "name": "",
         "scene": "scene",
         "showlegend": false,
         "type": "scatter3d",
         "x": [
          -1.8455456021913594,
          -0.7744550276240689,
          1.5983854006643812,
          -2.6521379546816397,
          4.053245881709798,
          1.3128267710555974,
          1.0395286772986596,
          -1.6864719254667913,
          -0.46151628519725474,
          1.8173839978654511,
          -1.5068188100214268,
          -1.9327358146388773,
          1.7047602216856497,
          -0.4554948645441974,
          1.0147544655367735,
          1.9487954683056126,
          -2.0427914118121198,
          2.249680884478468,
          -1.843197771342794,
          1.8021523504623405,
          -2.4618464068161994,
          -0.44878684193172713,
          0.3314344982986954,
          0.6448530278785904,
          -0.6620606770780624,
          3.2914334090145765,
          3.1346596643816618,
          2.877709831871015,
          0.20827936746663633,
          1.5546741660131485,
          1.9283762865158316,
          0.29222015148583536,
          3.951789291787046,
          -1.0154576728430518,
          2.7500194029044582,
          0.3329555894376375,
          0.9527083358978521,
          2.33893062358331,
          1.3870517615719304,
          2.4657801052417216,
          -2.0061749621897627,
          4.019113044908142,
          2.0186989038329983,
          -2.294183233932135,
          -1.665231063184656,
          0.22764194849450448,
          1.8130977731330615,
          0.02615031916834676,
          -0.48281914246655555,
          2.946129073290818,
          0.38708455094011285,
          -0.40910941014716906,
          3.649627739849758,
          1.207867922835825,
          -2.6881162131407734,
          1.3127171168013323,
          3.168731769514327,
          -1.1137742558441408,
          -1.8563168862407244,
          -0.4039583807814613,
          -2.187240200568578,
          -0.3631270705765828,
          -2.0571520989977286,
          -0.8092441588389521,
          3.126446436976779,
          -1.8847943994087624,
          1.3325255230741853,
          -0.48582786539439526,
          0.9800291901610496,
          1.773642916551803,
          -2.494897561221094,
          -1.092845689570966,
          2.0889509782498985,
          -2.330859032239082,
          0.7057896352887418,
          2.3060432675929787,
          0.034602562424764116,
          3.044233347350869,
          -2.45786326915793,
          -1.9004651370633834,
          -0.04317321811079955,
          -0.9465482998750505,
          0.3540455839935768,
          2.561033740586809,
          -2.4464758472958454,
          4.1230378803253895,
          3.626397329745431,
          3.896396257096577,
          -1.9756022158290434,
          3.5659929958845797,
          3.7273351986605627,
          -1.572744429495794,
          3.0721437248774004,
          3.5301071896615275,
          2.206581977834227,
          1.470609337387737,
          -2.6024311195876852,
          -0.11307063987217081,
          -1.1521902504168373,
          3.012613787457636
         ],
         "y": [
          -2.1236805646475494,
          3.744194008864735,
          -2.240567532567278,
          0.041054285746523256,
          -0.6817859322445861,
          -1.3695430171699885,
          -0.6904589018296723,
          -0.12235263692313803,
          1.2677456124040178,
          -1.4899888448049745,
          3.777826971477075,
          0.8794526071276838,
          4.074210800318442,
          0.8743074914683517,
          -2.327154303452404,
          -1.1418460063186584,
          -0.7786957381799842,
          2.5638901026084424,
          -1.081935489250415,
          1.185824621190652,
          2.2385664631603284,
          2.238483858173505,
          -2.0949410104920516,
          2.7974931873517637,
          -2.2397242451865633,
          3.8568669373408495,
          0.6776945763808664,
          2.2894915447775936,
          -0.2484157210732607,
          0.013776686846089348,
          1.0714573068747728,
          2.0831281827027333,
          -0.26555120810396327,
          3.8265617636409965,
          2.280218551992106,
          -2.122624570759806,
          3.056790319314163,
          1.8314505879634044,
          0.6600873664886926,
          -2.7510725969128558,
          1.3755126457678912,
          1.8985582735689057,
          -0.5905017314157579,
          2.9247451574359538,
          0.9505377472244168,
          2.368880818899865,
          1.7847113120263165,
          -2.142974168553374,
          3.761246388624392,
          2.9154605032116105,
          2.3256252050034263,
          3.5976584440533337,
          -2.068078760364901,
          1.0740275769316145,
          2.7070004089203117,
          1.5559083029723109,
          2.3214495849273833,
          0.767834389650099,
          -2.547424486524365,
          -2.4371408371332137,
          4.010450190447375,
          -2.2660808403895407,
          -0.14851151063031232,
          -1.9905830991910638,
          3.5455708838748494,
          2.999128150994899,
          -2.230984844913915,
          2.8550662064808234,
          1.4423080361645084,
          3.974388244470285,
          -0.4077384481387818,
          3.969814059822066,
          -0.7136325383529072,
          -0.04313047955510996,
          -2.3771166166948214,
          -1.0912539482299233,
          1.9163381310498169,
          -2.2613819220419034,
          0.8299596936112037,
          -2.2025071516813863,
          -0.7145846726126099,
          -0.5671645863805161,
          2.521649470095544,
          0.1577017771484046,
          4.1253977049153745,
          2.3298295258819053,
          -0.32447334897908364,
          -1.5250510452687929,
          1.4281438529182413,
          1.5883967179487373,
          -0.8366384207790845,
          -1.0986583080482384,
          0.40346950053781994,
          -0.8745920656934596,
          2.6063473859261093,
          -2.594310422903784,
          3.0113577764918977,
          0.008168749065214254,
          4.00592059375328,
          2.2219177413522866
         ],
         "z": [
          9.917732790076162,
          15.672863631062551,
          8.173417245987448,
          9.04733155555315,
          18.097706534490097,
          4.843404150336137,
          2.878705519118976,
          5.815390495502026,
          6.281593799547766,
          9.365775462731733,
          19.902580709268648,
          6.299701397212706,
          23.323368440166796,
          3.7397829029675043,
          9.237694289687559,
          8.281987985582532,
          5.835234652477842,
          14.955604391369933,
          6.478342434794107,
          7.167992046548925,
          14.13066889312223,
          7.160947078853373,
          5.233695927019479,
          9.007866183265607,
          7.437784707260943,
          29.08394694692239,
          14.006489916337838,
          18.983262257139447,
          2.0114920270728116,
          4.6353294077630665,
          6.671209721730781,
          7.787310882806869,
          19.395735252662703,
          18.008111458514218,
          14.897532664411798,
          7.208210344474478,
          13.255138058539563,
          12.464294615175254,
          4.7527915502932165,
          13.832179885545553,
          7.551855571624822,
          24.44759765181942,
          6.270545004257797,
          15.966694661883253,
          3.941664492044864,
          9.17892887607805,
          7.96198698498689,
          5.858003583583973,
          14.738984556524105,
          19.707804667944185,
          8.130566975860145,
          17.08148271323739,
          19.634834324861334,
          4.932377716974388,
          16.521147317355116,
          5.3347292579091485,
          17.323439429823605,
          4.001798440633847,
          11.13181361343668,
          7.976418260958076,
          21.642900966288945,
          6.567785090812162,
          7.033806940456675,
          6.540861393554533,
          25.188041968319677,
          13.46455857906507,
          7.57328714279857,
          11.57771491037006,
          6.035138360620482,
          24.641233510121292,
          7.888455167713246,
          17.748964289252232,
          8.183614678204462,
          7.209367500048051,
          8.794833949829586,
          7.3331615324462724,
          7.529519434010755,
          14.547390189078754,
          8.369558812573388,
          11.391608339268352,
          1.7751996069149505,
          3.6374916696053443,
          8.760709373024241,
          10.663764015637861,
          22.730688041601375,
          27.914125265332537,
          15.776103057632374,
          20.949383696589226,
          7.911489143868771,
          18.9258491080986,
          16.766034327009013,
          5.106066905498762,
          13.193573779149903,
          12.71022785503595,
          15.902331435235782,
          10.698865170104185,
          18.61985339066705,
          0.8567040919834279,
          20.353998295192554,
          18.588346380362747
         ]
        },
        {
         "type": "surface",
         "x": [
          -2.6881162131407734,
          -1.9313213138667553,
          -1.1745264145927372,
          -0.4177315153187191,
          0.339063383955299,
          1.095858283229317,
          1.8526531825033352,
          2.6094480817773533,
          3.3662429810513714,
          4.1230378803253895
         ],
         "y": [
          -2.7510725969128558,
          -1.9870203411541634,
          -1.2229680853954712,
          -0.458915829636779,
          0.3051364261219134,
          1.0691886818806058,
          1.8332409376392977,
          2.5972931933979906,
          3.3613454491566825,
          4.1253977049153745
         ],
         "z": [
          [
           11.798755100376884,
           11.675076338781514,
           11.551397577186142,
           11.427718815590772,
           11.3040400539954,
           11.18036129240003,
           11.05668253080466,
           10.93300376920929,
           10.809325007613918,
           10.685646246018546
          ],
          [
           11.858650597825951,
           11.734971836230581,
           11.61129307463521,
           11.487614313039838,
           11.363935551444468,
           11.240256789849097,
           11.116578028253727,
           10.992899266658355,
           10.869220505062986,
           10.745541743467614
          ],
          [
           11.918546095275019,
           11.794867333679647,
           11.671188572084278,
           11.547509810488906,
           11.423831048893536,
           11.300152287298165,
           11.176473525702795,
           11.052794764107423,
           10.929116002512053,
           10.805437240916682
          ],
          [
           11.978441592724087,
           11.854762831128715,
           11.731084069533345,
           11.607405307937974,
           11.483726546342604,
           11.360047784747232,
           11.236369023151862,
           11.11269026155649,
           10.98901149996112,
           10.86533273836575
          ],
          [
           12.038337090173153,
           11.914658328577783,
           11.790979566982411,
           11.667300805387042,
           11.54362204379167,
           11.4199432821963,
           11.296264520600928,
           11.172585759005559,
           11.048906997410187,
           10.925228235814817
          ],
          [
           12.09823258762222,
           11.97455382602685,
           11.850875064431479,
           11.72719630283611,
           11.603517541240738,
           11.479838779645368,
           11.356160018049996,
           11.232481256454626,
           11.108802494859255,
           10.985123733263885
          ],
          [
           12.158128085071288,
           12.034449323475918,
           11.910770561880547,
           11.787091800285175,
           11.663413038689805,
           11.539734277094434,
           11.416055515499064,
           11.292376753903692,
           11.168697992308322,
           11.04501923071295
          ],
          [
           12.218023582520356,
           12.094344820924984,
           11.970666059329615,
           11.846987297734243,
           11.723308536138873,
           11.599629774543502,
           11.475951012948132,
           11.35227225135276,
           11.22859348975739,
           11.104914728162019
          ],
          [
           12.277919079969424,
           12.154240318374052,
           12.030561556778682,
           11.90688279518331,
           11.78320403358794,
           11.65952527199257,
           11.5358465103972,
           11.412167748801828,
           11.288488987206456,
           11.164810225611086
          ],
          [
           12.33781457741849,
           12.21413581582312,
           12.090457054227748,
           11.966778292632378,
           11.843099531037007,
           11.719420769441637,
           11.595742007846265,
           11.472063246250896,
           11.348384484655524,
           11.224705723060154
          ]
         ]
        }
       ],
       "layout": {
        "legend": {
         "tracegroupgap": 0
        },
        "margin": {
         "t": 60
        },
        "scene": {
         "domain": {
          "x": [
           0,
           1
          ],
          "y": [
           0,
           1
          ]
         },
         "xaxis": {
          "title": {
           "text": "x"
          }
         },
         "yaxis": {
          "title": {
           "text": "y"
          }
         },
         "zaxis": {
          "title": {
           "text": "z"
          }
         }
        },
        "template": {
         "data": {
          "bar": [
           {
            "error_x": {
             "color": "#2a3f5f"
            },
            "error_y": {
             "color": "#2a3f5f"
            },
            "marker": {
             "line": {
              "color": "#E5ECF6",
              "width": 0.5
             },
             "pattern": {
              "fillmode": "overlay",
              "size": 10,
              "solidity": 0.2
             }
            },
            "type": "bar"
           }
          ],
          "barpolar": [
           {
            "marker": {
             "line": {
              "color": "#E5ECF6",
              "width": 0.5
             },
             "pattern": {
              "fillmode": "overlay",
              "size": 10,
              "solidity": 0.2
             }
            },
            "type": "barpolar"
           }
          ],
          "carpet": [
           {
            "aaxis": {
             "endlinecolor": "#2a3f5f",
             "gridcolor": "white",
             "linecolor": "white",
             "minorgridcolor": "white",
             "startlinecolor": "#2a3f5f"
            },
            "baxis": {
             "endlinecolor": "#2a3f5f",
             "gridcolor": "white",
             "linecolor": "white",
             "minorgridcolor": "white",
             "startlinecolor": "#2a3f5f"
            },
            "type": "carpet"
           }
          ],
          "choropleth": [
           {
            "colorbar": {
             "outlinewidth": 0,
             "ticks": ""
            },
            "type": "choropleth"
           }
          ],
          "contour": [
           {
            "colorbar": {
             "outlinewidth": 0,
             "ticks": ""
            },
            "colorscale": [
             [
              0,
              "#0d0887"
             ],
             [
              0.1111111111111111,
              "#46039f"
             ],
             [
              0.2222222222222222,
              "#7201a8"
             ],
             [
              0.3333333333333333,
              "#9c179e"
             ],
             [
              0.4444444444444444,
              "#bd3786"
             ],
             [
              0.5555555555555556,
              "#d8576b"
             ],
             [
              0.6666666666666666,
              "#ed7953"
             ],
             [
              0.7777777777777778,
              "#fb9f3a"
             ],
             [
              0.8888888888888888,
              "#fdca26"
             ],
             [
              1,
              "#f0f921"
             ]
            ],
            "type": "contour"
           }
          ],
          "contourcarpet": [
           {
            "colorbar": {
             "outlinewidth": 0,
             "ticks": ""
            },
            "type": "contourcarpet"
           }
          ],
          "heatmap": [
           {
            "colorbar": {
             "outlinewidth": 0,
             "ticks": ""
            },
            "colorscale": [
             [
              0,
              "#0d0887"
             ],
             [
              0.1111111111111111,
              "#46039f"
             ],
             [
              0.2222222222222222,
              "#7201a8"
             ],
             [
              0.3333333333333333,
              "#9c179e"
             ],
             [
              0.4444444444444444,
              "#bd3786"
             ],
             [
              0.5555555555555556,
              "#d8576b"
             ],
             [
              0.6666666666666666,
              "#ed7953"
             ],
             [
              0.7777777777777778,
              "#fb9f3a"
             ],
             [
              0.8888888888888888,
              "#fdca26"
             ],
             [
              1,
              "#f0f921"
             ]
            ],
            "type": "heatmap"
           }
          ],
          "heatmapgl": [
           {
            "colorbar": {
             "outlinewidth": 0,
             "ticks": ""
            },
            "colorscale": [
             [
              0,
              "#0d0887"
             ],
             [
              0.1111111111111111,
              "#46039f"
             ],
             [
              0.2222222222222222,
              "#7201a8"
             ],
             [
              0.3333333333333333,
              "#9c179e"
             ],
             [
              0.4444444444444444,
              "#bd3786"
             ],
             [
              0.5555555555555556,
              "#d8576b"
             ],
             [
              0.6666666666666666,
              "#ed7953"
             ],
             [
              0.7777777777777778,
              "#fb9f3a"
             ],
             [
              0.8888888888888888,
              "#fdca26"
             ],
             [
              1,
              "#f0f921"
             ]
            ],
            "type": "heatmapgl"
           }
          ],
          "histogram": [
           {
            "marker": {
             "pattern": {
              "fillmode": "overlay",
              "size": 10,
              "solidity": 0.2
             }
            },
            "type": "histogram"
           }
          ],
          "histogram2d": [
           {
            "colorbar": {
             "outlinewidth": 0,
             "ticks": ""
            },
            "colorscale": [
             [
              0,
              "#0d0887"
             ],
             [
              0.1111111111111111,
              "#46039f"
             ],
             [
              0.2222222222222222,
              "#7201a8"
             ],
             [
              0.3333333333333333,
              "#9c179e"
             ],
             [
              0.4444444444444444,
              "#bd3786"
             ],
             [
              0.5555555555555556,
              "#d8576b"
             ],
             [
              0.6666666666666666,
              "#ed7953"
             ],
             [
              0.7777777777777778,
              "#fb9f3a"
             ],
             [
              0.8888888888888888,
              "#fdca26"
             ],
             [
              1,
              "#f0f921"
             ]
            ],
            "type": "histogram2d"
           }
          ],
          "histogram2dcontour": [
           {
            "colorbar": {
             "outlinewidth": 0,
             "ticks": ""
            },
            "colorscale": [
             [
              0,
              "#0d0887"
             ],
             [
              0.1111111111111111,
              "#46039f"
             ],
             [
              0.2222222222222222,
              "#7201a8"
             ],
             [
              0.3333333333333333,
              "#9c179e"
             ],
             [
              0.4444444444444444,
              "#bd3786"
             ],
             [
              0.5555555555555556,
              "#d8576b"
             ],
             [
              0.6666666666666666,
              "#ed7953"
             ],
             [
              0.7777777777777778,
              "#fb9f3a"
             ],
             [
              0.8888888888888888,
              "#fdca26"
             ],
             [
              1,
              "#f0f921"
             ]
            ],
            "type": "histogram2dcontour"
           }
          ],
          "mesh3d": [
           {
            "colorbar": {
             "outlinewidth": 0,
             "ticks": ""
            },
            "type": "mesh3d"
           }
          ],
          "parcoords": [
           {
            "line": {
             "colorbar": {
              "outlinewidth": 0,
              "ticks": ""
             }
            },
            "type": "parcoords"
           }
          ],
          "pie": [
           {
            "automargin": true,
            "type": "pie"
           }
          ],
          "scatter": [
           {
            "fillpattern": {
             "fillmode": "overlay",
             "size": 10,
             "solidity": 0.2
            },
            "type": "scatter"
           }
          ],
          "scatter3d": [
           {
            "line": {
             "colorbar": {
              "outlinewidth": 0,
              "ticks": ""
             }
            },
            "marker": {
             "colorbar": {
              "outlinewidth": 0,
              "ticks": ""
             }
            },
            "type": "scatter3d"
           }
          ],
          "scattercarpet": [
           {
            "marker": {
             "colorbar": {
              "outlinewidth": 0,
              "ticks": ""
             }
            },
            "type": "scattercarpet"
           }
          ],
          "scattergeo": [
           {
            "marker": {
             "colorbar": {
              "outlinewidth": 0,
              "ticks": ""
             }
            },
            "type": "scattergeo"
           }
          ],
          "scattergl": [
           {
            "marker": {
             "colorbar": {
              "outlinewidth": 0,
              "ticks": ""
             }
            },
            "type": "scattergl"
           }
          ],
          "scattermapbox": [
           {
            "marker": {
             "colorbar": {
              "outlinewidth": 0,
              "ticks": ""
             }
            },
            "type": "scattermapbox"
           }
          ],
          "scatterpolar": [
           {
            "marker": {
             "colorbar": {
              "outlinewidth": 0,
              "ticks": ""
             }
            },
            "type": "scatterpolar"
           }
          ],
          "scatterpolargl": [
           {
            "marker": {
             "colorbar": {
              "outlinewidth": 0,
              "ticks": ""
             }
            },
            "type": "scatterpolargl"
           }
          ],
          "scatterternary": [
           {
            "marker": {
             "colorbar": {
              "outlinewidth": 0,
              "ticks": ""
             }
            },
            "type": "scatterternary"
           }
          ],
          "surface": [
           {
            "colorbar": {
             "outlinewidth": 0,
             "ticks": ""
            },
            "colorscale": [
             [
              0,
              "#0d0887"
             ],
             [
              0.1111111111111111,
              "#46039f"
             ],
             [
              0.2222222222222222,
              "#7201a8"
             ],
             [
              0.3333333333333333,
              "#9c179e"
             ],
             [
              0.4444444444444444,
              "#bd3786"
             ],
             [
              0.5555555555555556,
              "#d8576b"
             ],
             [
              0.6666666666666666,
              "#ed7953"
             ],
             [
              0.7777777777777778,
              "#fb9f3a"
             ],
             [
              0.8888888888888888,
              "#fdca26"
             ],
             [
              1,
              "#f0f921"
             ]
            ],
            "type": "surface"
           }
          ],
          "table": [
           {
            "cells": {
             "fill": {
              "color": "#EBF0F8"
             },
             "line": {
              "color": "white"
             }
            },
            "header": {
             "fill": {
              "color": "#C8D4E3"
             },
             "line": {
              "color": "white"
             }
            },
            "type": "table"
           }
          ]
         },
         "layout": {
          "annotationdefaults": {
           "arrowcolor": "#2a3f5f",
           "arrowhead": 0,
           "arrowwidth": 1
          },
          "autotypenumbers": "strict",
          "coloraxis": {
           "colorbar": {
            "outlinewidth": 0,
            "ticks": ""
           }
          },
          "colorscale": {
           "diverging": [
            [
             0,
             "#8e0152"
            ],
            [
             0.1,
             "#c51b7d"
            ],
            [
             0.2,
             "#de77ae"
            ],
            [
             0.3,
             "#f1b6da"
            ],
            [
             0.4,
             "#fde0ef"
            ],
            [
             0.5,
             "#f7f7f7"
            ],
            [
             0.6,
             "#e6f5d0"
            ],
            [
             0.7,
             "#b8e186"
            ],
            [
             0.8,
             "#7fbc41"
            ],
            [
             0.9,
             "#4d9221"
            ],
            [
             1,
             "#276419"
            ]
           ],
           "sequential": [
            [
             0,
             "#0d0887"
            ],
            [
             0.1111111111111111,
             "#46039f"
            ],
            [
             0.2222222222222222,
             "#7201a8"
            ],
            [
             0.3333333333333333,
             "#9c179e"
            ],
            [
             0.4444444444444444,
             "#bd3786"
            ],
            [
             0.5555555555555556,
             "#d8576b"
            ],
            [
             0.6666666666666666,
             "#ed7953"
            ],
            [
             0.7777777777777778,
             "#fb9f3a"
            ],
            [
             0.8888888888888888,
             "#fdca26"
            ],
            [
             1,
             "#f0f921"
            ]
           ],
           "sequentialminus": [
            [
             0,
             "#0d0887"
            ],
            [
             0.1111111111111111,
             "#46039f"
            ],
            [
             0.2222222222222222,
             "#7201a8"
            ],
            [
             0.3333333333333333,
             "#9c179e"
            ],
            [
             0.4444444444444444,
             "#bd3786"
            ],
            [
             0.5555555555555556,
             "#d8576b"
            ],
            [
             0.6666666666666666,
             "#ed7953"
            ],
            [
             0.7777777777777778,
             "#fb9f3a"
            ],
            [
             0.8888888888888888,
             "#fdca26"
            ],
            [
             1,
             "#f0f921"
            ]
           ]
          },
          "colorway": [
           "#636efa",
           "#EF553B",
           "#00cc96",
           "#ab63fa",
           "#FFA15A",
           "#19d3f3",
           "#FF6692",
           "#B6E880",
           "#FF97FF",
           "#FECB52"
          ],
          "font": {
           "color": "#2a3f5f"
          },
          "geo": {
           "bgcolor": "white",
           "lakecolor": "white",
           "landcolor": "#E5ECF6",
           "showlakes": true,
           "showland": true,
           "subunitcolor": "white"
          },
          "hoverlabel": {
           "align": "left"
          },
          "hovermode": "closest",
          "mapbox": {
           "style": "light"
          },
          "paper_bgcolor": "white",
          "plot_bgcolor": "#E5ECF6",
          "polar": {
           "angularaxis": {
            "gridcolor": "white",
            "linecolor": "white",
            "ticks": ""
           },
           "bgcolor": "#E5ECF6",
           "radialaxis": {
            "gridcolor": "white",
            "linecolor": "white",
            "ticks": ""
           }
          },
          "scene": {
           "xaxis": {
            "backgroundcolor": "#E5ECF6",
            "gridcolor": "white",
            "gridwidth": 2,
            "linecolor": "white",
            "showbackground": true,
            "ticks": "",
            "zerolinecolor": "white"
           },
           "yaxis": {
            "backgroundcolor": "#E5ECF6",
            "gridcolor": "white",
            "gridwidth": 2,
            "linecolor": "white",
            "showbackground": true,
            "ticks": "",
            "zerolinecolor": "white"
           },
           "zaxis": {
            "backgroundcolor": "#E5ECF6",
            "gridcolor": "white",
            "gridwidth": 2,
            "linecolor": "white",
            "showbackground": true,
            "ticks": "",
            "zerolinecolor": "white"
           }
          },
          "shapedefaults": {
           "line": {
            "color": "#2a3f5f"
           }
          },
          "ternary": {
           "aaxis": {
            "gridcolor": "white",
            "linecolor": "white",
            "ticks": ""
           },
           "baxis": {
            "gridcolor": "white",
            "linecolor": "white",
            "ticks": ""
           },
           "bgcolor": "#E5ECF6",
           "caxis": {
            "gridcolor": "white",
            "linecolor": "white",
            "ticks": ""
           }
          },
          "title": {
           "x": 0.05
          },
          "xaxis": {
           "automargin": true,
           "gridcolor": "white",
           "linecolor": "white",
           "ticks": "",
           "title": {
            "standoff": 15
           },
           "zerolinecolor": "white",
           "zerolinewidth": 2
          },
          "yaxis": {
           "automargin": true,
           "gridcolor": "white",
           "linecolor": "white",
           "ticks": "",
           "title": {
            "standoff": 15
           },
           "zerolinecolor": "white",
           "zerolinewidth": 2
          }
         }
        }
       }
      }
     },
     "metadata": {},
     "output_type": "display_data"
    }
   ],
   "source": [
    "import plotly.graph_objects as go\n",
    "\n",
    "fig = px.scatter_3d(df, x=x.ravel(), y=y.ravel(), z=z.ravel())\n",
    "\n",
    "fig.add_trace(go.Surface(x = x_input, y = y_input, z =z_final ))\n",
    "\n",
    "fig.show()"
   ]
  },
  {
   "cell_type": "code",
   "execution_count": 84,
   "id": "3b155294",
   "metadata": {},
   "outputs": [
    {
     "data": {
      "text/plain": [
       "(100, 2)"
      ]
     },
     "execution_count": 84,
     "metadata": {},
     "output_type": "execute_result"
    }
   ],
   "source": [
    "X_multi = np.array([x,y]).reshape(100,2)\n",
    "X_multi.shape"
   ]
  },
  {
   "cell_type": "code",
   "execution_count": 85,
   "id": "55e30cc7",
   "metadata": {},
   "outputs": [],
   "source": [
    "poly = PolynomialFeatures(degree=30)\n",
    "X_multi_trans = poly.fit_transform(X_multi)"
   ]
  },
  {
   "cell_type": "code",
   "execution_count": 87,
   "id": "0486c5ea",
   "metadata": {},
   "outputs": [
    {
     "name": "stdout",
     "output_type": "stream",
     "text": [
      "Input 2\n",
      "Ouput 496\n",
      "Powers\n",
      " [[ 0  0]\n",
      " [ 1  0]\n",
      " [ 0  1]\n",
      " [ 2  0]\n",
      " [ 1  1]\n",
      " [ 0  2]\n",
      " [ 3  0]\n",
      " [ 2  1]\n",
      " [ 1  2]\n",
      " [ 0  3]\n",
      " [ 4  0]\n",
      " [ 3  1]\n",
      " [ 2  2]\n",
      " [ 1  3]\n",
      " [ 0  4]\n",
      " [ 5  0]\n",
      " [ 4  1]\n",
      " [ 3  2]\n",
      " [ 2  3]\n",
      " [ 1  4]\n",
      " [ 0  5]\n",
      " [ 6  0]\n",
      " [ 5  1]\n",
      " [ 4  2]\n",
      " [ 3  3]\n",
      " [ 2  4]\n",
      " [ 1  5]\n",
      " [ 0  6]\n",
      " [ 7  0]\n",
      " [ 6  1]\n",
      " [ 5  2]\n",
      " [ 4  3]\n",
      " [ 3  4]\n",
      " [ 2  5]\n",
      " [ 1  6]\n",
      " [ 0  7]\n",
      " [ 8  0]\n",
      " [ 7  1]\n",
      " [ 6  2]\n",
      " [ 5  3]\n",
      " [ 4  4]\n",
      " [ 3  5]\n",
      " [ 2  6]\n",
      " [ 1  7]\n",
      " [ 0  8]\n",
      " [ 9  0]\n",
      " [ 8  1]\n",
      " [ 7  2]\n",
      " [ 6  3]\n",
      " [ 5  4]\n",
      " [ 4  5]\n",
      " [ 3  6]\n",
      " [ 2  7]\n",
      " [ 1  8]\n",
      " [ 0  9]\n",
      " [10  0]\n",
      " [ 9  1]\n",
      " [ 8  2]\n",
      " [ 7  3]\n",
      " [ 6  4]\n",
      " [ 5  5]\n",
      " [ 4  6]\n",
      " [ 3  7]\n",
      " [ 2  8]\n",
      " [ 1  9]\n",
      " [ 0 10]\n",
      " [11  0]\n",
      " [10  1]\n",
      " [ 9  2]\n",
      " [ 8  3]\n",
      " [ 7  4]\n",
      " [ 6  5]\n",
      " [ 5  6]\n",
      " [ 4  7]\n",
      " [ 3  8]\n",
      " [ 2  9]\n",
      " [ 1 10]\n",
      " [ 0 11]\n",
      " [12  0]\n",
      " [11  1]\n",
      " [10  2]\n",
      " [ 9  3]\n",
      " [ 8  4]\n",
      " [ 7  5]\n",
      " [ 6  6]\n",
      " [ 5  7]\n",
      " [ 4  8]\n",
      " [ 3  9]\n",
      " [ 2 10]\n",
      " [ 1 11]\n",
      " [ 0 12]\n",
      " [13  0]\n",
      " [12  1]\n",
      " [11  2]\n",
      " [10  3]\n",
      " [ 9  4]\n",
      " [ 8  5]\n",
      " [ 7  6]\n",
      " [ 6  7]\n",
      " [ 5  8]\n",
      " [ 4  9]\n",
      " [ 3 10]\n",
      " [ 2 11]\n",
      " [ 1 12]\n",
      " [ 0 13]\n",
      " [14  0]\n",
      " [13  1]\n",
      " [12  2]\n",
      " [11  3]\n",
      " [10  4]\n",
      " [ 9  5]\n",
      " [ 8  6]\n",
      " [ 7  7]\n",
      " [ 6  8]\n",
      " [ 5  9]\n",
      " [ 4 10]\n",
      " [ 3 11]\n",
      " [ 2 12]\n",
      " [ 1 13]\n",
      " [ 0 14]\n",
      " [15  0]\n",
      " [14  1]\n",
      " [13  2]\n",
      " [12  3]\n",
      " [11  4]\n",
      " [10  5]\n",
      " [ 9  6]\n",
      " [ 8  7]\n",
      " [ 7  8]\n",
      " [ 6  9]\n",
      " [ 5 10]\n",
      " [ 4 11]\n",
      " [ 3 12]\n",
      " [ 2 13]\n",
      " [ 1 14]\n",
      " [ 0 15]\n",
      " [16  0]\n",
      " [15  1]\n",
      " [14  2]\n",
      " [13  3]\n",
      " [12  4]\n",
      " [11  5]\n",
      " [10  6]\n",
      " [ 9  7]\n",
      " [ 8  8]\n",
      " [ 7  9]\n",
      " [ 6 10]\n",
      " [ 5 11]\n",
      " [ 4 12]\n",
      " [ 3 13]\n",
      " [ 2 14]\n",
      " [ 1 15]\n",
      " [ 0 16]\n",
      " [17  0]\n",
      " [16  1]\n",
      " [15  2]\n",
      " [14  3]\n",
      " [13  4]\n",
      " [12  5]\n",
      " [11  6]\n",
      " [10  7]\n",
      " [ 9  8]\n",
      " [ 8  9]\n",
      " [ 7 10]\n",
      " [ 6 11]\n",
      " [ 5 12]\n",
      " [ 4 13]\n",
      " [ 3 14]\n",
      " [ 2 15]\n",
      " [ 1 16]\n",
      " [ 0 17]\n",
      " [18  0]\n",
      " [17  1]\n",
      " [16  2]\n",
      " [15  3]\n",
      " [14  4]\n",
      " [13  5]\n",
      " [12  6]\n",
      " [11  7]\n",
      " [10  8]\n",
      " [ 9  9]\n",
      " [ 8 10]\n",
      " [ 7 11]\n",
      " [ 6 12]\n",
      " [ 5 13]\n",
      " [ 4 14]\n",
      " [ 3 15]\n",
      " [ 2 16]\n",
      " [ 1 17]\n",
      " [ 0 18]\n",
      " [19  0]\n",
      " [18  1]\n",
      " [17  2]\n",
      " [16  3]\n",
      " [15  4]\n",
      " [14  5]\n",
      " [13  6]\n",
      " [12  7]\n",
      " [11  8]\n",
      " [10  9]\n",
      " [ 9 10]\n",
      " [ 8 11]\n",
      " [ 7 12]\n",
      " [ 6 13]\n",
      " [ 5 14]\n",
      " [ 4 15]\n",
      " [ 3 16]\n",
      " [ 2 17]\n",
      " [ 1 18]\n",
      " [ 0 19]\n",
      " [20  0]\n",
      " [19  1]\n",
      " [18  2]\n",
      " [17  3]\n",
      " [16  4]\n",
      " [15  5]\n",
      " [14  6]\n",
      " [13  7]\n",
      " [12  8]\n",
      " [11  9]\n",
      " [10 10]\n",
      " [ 9 11]\n",
      " [ 8 12]\n",
      " [ 7 13]\n",
      " [ 6 14]\n",
      " [ 5 15]\n",
      " [ 4 16]\n",
      " [ 3 17]\n",
      " [ 2 18]\n",
      " [ 1 19]\n",
      " [ 0 20]\n",
      " [21  0]\n",
      " [20  1]\n",
      " [19  2]\n",
      " [18  3]\n",
      " [17  4]\n",
      " [16  5]\n",
      " [15  6]\n",
      " [14  7]\n",
      " [13  8]\n",
      " [12  9]\n",
      " [11 10]\n",
      " [10 11]\n",
      " [ 9 12]\n",
      " [ 8 13]\n",
      " [ 7 14]\n",
      " [ 6 15]\n",
      " [ 5 16]\n",
      " [ 4 17]\n",
      " [ 3 18]\n",
      " [ 2 19]\n",
      " [ 1 20]\n",
      " [ 0 21]\n",
      " [22  0]\n",
      " [21  1]\n",
      " [20  2]\n",
      " [19  3]\n",
      " [18  4]\n",
      " [17  5]\n",
      " [16  6]\n",
      " [15  7]\n",
      " [14  8]\n",
      " [13  9]\n",
      " [12 10]\n",
      " [11 11]\n",
      " [10 12]\n",
      " [ 9 13]\n",
      " [ 8 14]\n",
      " [ 7 15]\n",
      " [ 6 16]\n",
      " [ 5 17]\n",
      " [ 4 18]\n",
      " [ 3 19]\n",
      " [ 2 20]\n",
      " [ 1 21]\n",
      " [ 0 22]\n",
      " [23  0]\n",
      " [22  1]\n",
      " [21  2]\n",
      " [20  3]\n",
      " [19  4]\n",
      " [18  5]\n",
      " [17  6]\n",
      " [16  7]\n",
      " [15  8]\n",
      " [14  9]\n",
      " [13 10]\n",
      " [12 11]\n",
      " [11 12]\n",
      " [10 13]\n",
      " [ 9 14]\n",
      " [ 8 15]\n",
      " [ 7 16]\n",
      " [ 6 17]\n",
      " [ 5 18]\n",
      " [ 4 19]\n",
      " [ 3 20]\n",
      " [ 2 21]\n",
      " [ 1 22]\n",
      " [ 0 23]\n",
      " [24  0]\n",
      " [23  1]\n",
      " [22  2]\n",
      " [21  3]\n",
      " [20  4]\n",
      " [19  5]\n",
      " [18  6]\n",
      " [17  7]\n",
      " [16  8]\n",
      " [15  9]\n",
      " [14 10]\n",
      " [13 11]\n",
      " [12 12]\n",
      " [11 13]\n",
      " [10 14]\n",
      " [ 9 15]\n",
      " [ 8 16]\n",
      " [ 7 17]\n",
      " [ 6 18]\n",
      " [ 5 19]\n",
      " [ 4 20]\n",
      " [ 3 21]\n",
      " [ 2 22]\n",
      " [ 1 23]\n",
      " [ 0 24]\n",
      " [25  0]\n",
      " [24  1]\n",
      " [23  2]\n",
      " [22  3]\n",
      " [21  4]\n",
      " [20  5]\n",
      " [19  6]\n",
      " [18  7]\n",
      " [17  8]\n",
      " [16  9]\n",
      " [15 10]\n",
      " [14 11]\n",
      " [13 12]\n",
      " [12 13]\n",
      " [11 14]\n",
      " [10 15]\n",
      " [ 9 16]\n",
      " [ 8 17]\n",
      " [ 7 18]\n",
      " [ 6 19]\n",
      " [ 5 20]\n",
      " [ 4 21]\n",
      " [ 3 22]\n",
      " [ 2 23]\n",
      " [ 1 24]\n",
      " [ 0 25]\n",
      " [26  0]\n",
      " [25  1]\n",
      " [24  2]\n",
      " [23  3]\n",
      " [22  4]\n",
      " [21  5]\n",
      " [20  6]\n",
      " [19  7]\n",
      " [18  8]\n",
      " [17  9]\n",
      " [16 10]\n",
      " [15 11]\n",
      " [14 12]\n",
      " [13 13]\n",
      " [12 14]\n",
      " [11 15]\n",
      " [10 16]\n",
      " [ 9 17]\n",
      " [ 8 18]\n",
      " [ 7 19]\n",
      " [ 6 20]\n",
      " [ 5 21]\n",
      " [ 4 22]\n",
      " [ 3 23]\n",
      " [ 2 24]\n",
      " [ 1 25]\n",
      " [ 0 26]\n",
      " [27  0]\n",
      " [26  1]\n",
      " [25  2]\n",
      " [24  3]\n",
      " [23  4]\n",
      " [22  5]\n",
      " [21  6]\n",
      " [20  7]\n",
      " [19  8]\n",
      " [18  9]\n",
      " [17 10]\n",
      " [16 11]\n",
      " [15 12]\n",
      " [14 13]\n",
      " [13 14]\n",
      " [12 15]\n",
      " [11 16]\n",
      " [10 17]\n",
      " [ 9 18]\n",
      " [ 8 19]\n",
      " [ 7 20]\n",
      " [ 6 21]\n",
      " [ 5 22]\n",
      " [ 4 23]\n",
      " [ 3 24]\n",
      " [ 2 25]\n",
      " [ 1 26]\n",
      " [ 0 27]\n",
      " [28  0]\n",
      " [27  1]\n",
      " [26  2]\n",
      " [25  3]\n",
      " [24  4]\n",
      " [23  5]\n",
      " [22  6]\n",
      " [21  7]\n",
      " [20  8]\n",
      " [19  9]\n",
      " [18 10]\n",
      " [17 11]\n",
      " [16 12]\n",
      " [15 13]\n",
      " [14 14]\n",
      " [13 15]\n",
      " [12 16]\n",
      " [11 17]\n",
      " [10 18]\n",
      " [ 9 19]\n",
      " [ 8 20]\n",
      " [ 7 21]\n",
      " [ 6 22]\n",
      " [ 5 23]\n",
      " [ 4 24]\n",
      " [ 3 25]\n",
      " [ 2 26]\n",
      " [ 1 27]\n",
      " [ 0 28]\n",
      " [29  0]\n",
      " [28  1]\n",
      " [27  2]\n",
      " [26  3]\n",
      " [25  4]\n",
      " [24  5]\n",
      " [23  6]\n",
      " [22  7]\n",
      " [21  8]\n",
      " [20  9]\n",
      " [19 10]\n",
      " [18 11]\n",
      " [17 12]\n",
      " [16 13]\n",
      " [15 14]\n",
      " [14 15]\n",
      " [13 16]\n",
      " [12 17]\n",
      " [11 18]\n",
      " [10 19]\n",
      " [ 9 20]\n",
      " [ 8 21]\n",
      " [ 7 22]\n",
      " [ 6 23]\n",
      " [ 5 24]\n",
      " [ 4 25]\n",
      " [ 3 26]\n",
      " [ 2 27]\n",
      " [ 1 28]\n",
      " [ 0 29]\n",
      " [30  0]\n",
      " [29  1]\n",
      " [28  2]\n",
      " [27  3]\n",
      " [26  4]\n",
      " [25  5]\n",
      " [24  6]\n",
      " [23  7]\n",
      " [22  8]\n",
      " [21  9]\n",
      " [20 10]\n",
      " [19 11]\n",
      " [18 12]\n",
      " [17 13]\n",
      " [16 14]\n",
      " [15 15]\n",
      " [14 16]\n",
      " [13 17]\n",
      " [12 18]\n",
      " [11 19]\n",
      " [10 20]\n",
      " [ 9 21]\n",
      " [ 8 22]\n",
      " [ 7 23]\n",
      " [ 6 24]\n",
      " [ 5 25]\n",
      " [ 4 26]\n",
      " [ 3 27]\n",
      " [ 2 28]\n",
      " [ 1 29]\n",
      " [ 0 30]]\n"
     ]
    }
   ],
   "source": [
    "print(\"Input\",poly.n_features_in_)\n",
    "print(\"Ouput\",poly.n_output_features_)\n",
    "print(\"Powers\\n\",poly.powers_)"
   ]
  },
  {
   "cell_type": "code",
   "execution_count": null,
   "id": "64c43050",
   "metadata": {},
   "outputs": [
    {
     "data": {
      "text/plain": [
       "(100, 496)"
      ]
     },
     "execution_count": 29,
     "metadata": {},
     "output_type": "execute_result"
    }
   ],
   "source": [
    "X_multi_trans.shape"
   ]
  },
  {
   "cell_type": "code",
   "execution_count": null,
   "id": "b285b9ae",
   "metadata": {},
   "outputs": [
    {
     "data": {
      "text/plain": [
       "LinearRegression()"
      ]
     },
     "execution_count": 30,
     "metadata": {},
     "output_type": "execute_result"
    }
   ],
   "source": [
    "lr = LinearRegression()\n",
    "lr.fit(X_multi_trans,z)"
   ]
  },
  {
   "cell_type": "code",
   "execution_count": null,
   "id": "e38c6645",
   "metadata": {},
   "outputs": [],
   "source": [
    "X_test_multi = poly.transform(final)"
   ]
  },
  {
   "cell_type": "code",
   "execution_count": null,
   "id": "4c33cbb5",
   "metadata": {},
   "outputs": [],
   "source": [
    "z_final = lr.predict(X_multi_trans).reshape(10,10)"
   ]
  },
  {
   "cell_type": "code",
   "execution_count": null,
   "id": "de8b7bd8",
   "metadata": {},
   "outputs": [
    {
     "data": {
      "application/vnd.plotly.v1+json": {
       "config": {
        "plotlyServerURL": "https://plot.ly"
       },
       "data": [
        {
         "hovertemplate": "x=%{x}<br>y=%{y}<br>z=%{z}<extra></extra>",
         "legendgroup": "",
         "marker": {
          "color": "#636efa",
          "symbol": "circle"
         },
         "mode": "markers",
         "name": "",
         "scene": "scene",
         "showlegend": false,
         "type": "scatter3d",
         "x": [
          -0.8414777290414566,
          0.20537652223986758,
          2.2927274041256407,
          1.3183571056875412,
          1.7151954669720713,
          0.0015961921966316517,
          1.1855918806060624,
          -0.7693243681792077,
          -2.297821155366823,
          -0.08213487892033644,
          -0.10830161059243881,
          3.480462415947195,
          1.3694197185654344,
          -1.7276115443776963,
          2.8344931579484074,
          -2.2096129905122464,
          -2.5735087065212654,
          0.7244123760981003,
          -2.2299671379188313,
          0.1371734948041814,
          1.5698726107956267,
          2.699054247432481,
          -0.31568278702339825,
          0.8335523207078994,
          -1.2817164691708656,
          0.9142983123183166,
          4.178479148670702,
          -1.4974126755295547,
          1.7308315044449287,
          2.300988944484593,
          0.7918033915397622,
          0.08780816557184146,
          0.006973616477340627,
          2.7651341576674637,
          2.498452368980703,
          -0.934241121280972,
          3.2243307004243364,
          0.548695987949932,
          2.593578322796348,
          -2.00053323831486,
          2.9078724069374786,
          -0.44914907426316253,
          -1.9719256721617064,
          2.1216500779790577,
          3.9906203811240637,
          3.90533605530012,
          -0.3606178171913994,
          2.333652865149376,
          3.272567648607631,
          1.4363611429952847,
          -0.07920948684276574,
          3.832640518674755,
          -2.0143257254404223,
          3.896279457405595,
          2.4479696856175277,
          0.3373802203606324,
          1.6082340823187282,
          3.8196139163570066,
          4.197715932214986,
          -0.5106967874795547,
          1.331657062595239,
          2.330633640535658,
          -2.608328273136598,
          -0.15203290672224057,
          3.2268268174766117,
          3.5796023748921506,
          3.274739642355211,
          -1.5950178338432601,
          -1.5866245353630686,
          -0.24706957667845986,
          0.7461641696753416,
          -0.4279331751597,
          4.13464353151227,
          0.16889061389088855,
          0.6434021633811042,
          1.4404339383766818,
          1.3977613831090627,
          -1.6213490292964619,
          1.8422620142191226,
          1.017876716878062,
          -1.5837261143889423,
          0.43368878714100756,
          0.7252247057220216,
          -2.6385223486105533,
          3.7355658786771224,
          -0.9646110350035619,
          3.8026340690068317,
          0.7675614677111922,
          -0.256475279169603,
          1.303185541959726,
          1.660773261693481,
          -2.5400229133817698,
          0.4542777341294366,
          -2.163079463225541,
          -1.8954939944440174,
          3.3476893873926192,
          3.011357761358868,
          3.188207295341221,
          -2.0830781232377302,
          1.9214667626238242
         ],
         "y": [
          4.187781755960167,
          3.637734874439917,
          2.02386050849488,
          -1.9220066368485567,
          -2.7194735831070043,
          1.3677166883915648,
          2.1896221569758376,
          0.9664743444883657,
          0.19968535706719992,
          1.7220564823876918,
          4.179723763032645,
          2.9910348366218393,
          -2.480497490392204,
          1.601341687466693,
          2.0681113103436806,
          1.0115342112944088,
          1.5725533033710315,
          0.365671399534063,
          -0.7205146996714511,
          -1.0841945382647575,
          -2.221728929291694,
          3.2961119945397215,
          3.8844951051400356,
          1.0997106125290057,
          1.8246423249213262,
          3.195219786672948,
          4.191797323162843,
          -2.5299423912444268,
          0.7968445361896572,
          3.6881551466191462,
          0.46016066091172503,
          1.7760908947271963,
          -0.6987631757168415,
          3.9008231327437732,
          1.9789517451269445,
          -0.07098857628828936,
          0.1801628958797079,
          2.6553755697386086,
          -1.7630569638857048,
          -0.08807186236615205,
          -0.7457674986463183,
          -2.067945555929383,
          -0.9647044096715511,
          3.453535462792739,
          1.0546040872299667,
          -1.8297486883137395,
          -1.2691517133924164,
          2.5262891682346584,
          -1.6361803351625948,
          2.0319694920370734,
          0.6219953510523051,
          1.5380558706605507,
          -1.348680874798769,
          -0.794872441085082,
          -1.07605861423811,
          1.1133984820304188,
          3.9398779387589533,
          -1.6782013375586549,
          0.7414048455103144,
          2.0848993203790522,
          2.711028739398527,
          1.2875772281991305,
          2.458470531903216,
          -1.4337109930196896,
          -2.4529159295880367,
          -1.379709989666658,
          -2.2689892218129897,
          0.9275569803012331,
          0.09165556097882943,
          -0.9454027721609295,
          0.7567736611348224,
          -2.698092513825572,
          -0.4779588044594778,
          4.0807359353958,
          0.3215555138192716,
          -0.2274371436254783,
          -1.3931852646552076,
          4.006402405392232,
          3.4180850162161027,
          -0.07602682280512152,
          1.57326601261724,
          1.8839041683097033,
          2.3019819237632095,
          3.0237646864143146,
          -1.6144820969679703,
          -1.6118072874973808,
          3.5224570634332597,
          1.8798928607817889,
          1.8892161825663303,
          3.833179055228813,
          4.104541296948449,
          -1.2305980787733901,
          3.184027954251289,
          1.7296531565463793,
          -1.0469310991164305,
          0.2844027718377591,
          2.969271618428902,
          -0.5001470560105714,
          -1.8488057553558517,
          -2.309268529685837
         ],
         "z": [
          20.98784093627244,
          16.569664502382945,
          12.40164585501188,
          6.532247706296038,
          9.095215760454519,
          3.7171325953370244,
          8.958163711133999,
          3.057812438861483,
          5.687114477844501,
          6.34431359479569,
          19.792365805738868,
          26.432122468574107,
          9.492131990510618,
          6.601103049849577,
          15.663519880642653,
          7.645040962224883,
          10.306454337370475,
          2.926088546281236,
          7.760003586680639,
          4.834465731501926,
          8.582430008317742,
          24.398024866094755,
          17.447413387544866,
          2.8994901282422934,
          6.440878003269808,
          13.609862843595444,
          40.29044177232661,
          9.897336013980295,
          7.476454463511765,
          21.7271305919637,
          0.9288279475684553,
          5.88125610341583,
          2.776428308650936,
          25.64749483748202,
          12.295329865607696,
          3.808760694906269,
          14.129879421941279,
          10.130331206794414,
          11.29815294732246,
          5.80200569904796,
          10.75988804761976,
          6.085067605360368,
          5.453674003775552,
          20.58301476036678,
          20.198603907600805,
          22.19184635066576,
          3.8969080934807785,
          15.471696371677417,
          14.233732099368574,
          9.392921228182724,
          3.551712580915978,
          21.998944544923297,
          6.8874120936512115,
          18.0286263875063,
          9.680686955267344,
          4.829715561936993,
          22.87446312128793,
          19.934424832755443,
          21.296451513615867,
          8.377132426171055,
          13.1675021625304,
          8.812794259612756,
          13.205999038562696,
          3.417517187033648,
          18.619611414392384,
          16.114295032249316,
          18.18223824762192,
          4.171833188889166,
          3.8428711945712566,
          2.2381042140716967,
          2.721407777175854,
          8.77177849861343,
          19.3052554089457,
          18.049422365379893,
          1.1240971819115277,
          5.2491724471572745,
          6.868230364001274,
          19.953852069027977,
          17.526467476956448,
          3.2226696742460166,
          6.495093973575352,
          5.37576201885131,
          8.812199193979767,
          15.561005383513386,
          18.380611134988733,
          6.972882521446655,
          31.678806028405063,
          7.902542022868393,
          5.332949013438252,
          19.72101941444612,
          24.61607316011202,
          9.539894262781926,
          14.173216048574309,
          8.606044707905907,
          6.647681272429933,
          14.377008465374763,
          21.664158142668253,
          13.19131323977386,
          10.59438642205234,
          12.989120013175253
         ]
        },
        {
         "type": "surface",
         "x": [
          -2.6385223486105533,
          -1.8789403174077157,
          -1.119358286204878,
          -0.35977625500204047,
          0.39980577620079716,
          1.1593878074036348,
          1.9189698386064724,
          2.67855186980931,
          3.4381339010121477,
          4.197715932214986
         ],
         "y": [
          -2.7194735831070043,
          -1.9515545935214655,
          -1.183635603935927,
          -0.41571661435038854,
          0.3522023752351502,
          1.120121364820689,
          1.8880403544062272,
          2.655959343991766,
          3.4238783335773046,
          4.191797323162843
         ],
         "z": [
          [
           12.8320738537059,
           15.97083462121634,
           11.461029112779528,
           12.743489582790097,
           9.36062530240713,
           3.791358214092611,
           8.42906030224674,
           3.4852288181308495,
           16.02643591513595,
           6.192885879764503
          ],
          [
           15.039006930065511,
           12.831895049804857,
           12.72633182478999,
           6.8720009142879235,
           15.128939056989907,
           12.832183756406332,
           8.412574473989366,
           3.395710741623475,
           7.881886702251791,
           -2.0443277133282436
          ],
          [
           8.175522860360502,
           25.845403103960848,
           17.269461851787923,
           2.646395051956347,
           6.377639990520834,
           13.590872984600423,
           40.36516497678792,
           9.768207017902455,
           7.4955360705379235,
           22.269461851787923
          ],
          [
           0.42833004355168214,
           1.4851632548842417,
           2.7050087267879235,
           25.755873900127767,
           10.937394856751183,
           12.83214853839324,
           14.445731383037923,
           9.99698371453196,
           11.452502247065922,
           4.907964310316288
          ],
          [
           10.337213422735958,
           7.159288367477416,
           5.4429848010066735,
           20.586966734600423,
           12.447627718950546,
           22.384118613076566,
           3.628793962753548,
           15.459021788311361,
           14.248404722881673,
           10.336241668311118
          ],
          [
           3.4569618517879235,
           21.687897708036758,
           5.68745976336038,
           17.718815506889655,
           9.432227596468621,
           4.4257118517879235,
           23.696520814893006,
           19.743195128411458,
           21.864517819672002,
           12.832098606260129
          ],
          [
           13.168509703350423,
           8.834281187725423,
           13.27453921384847,
           4.0936806017879235,
           18.64302752561605,
           15.740334562573963,
           18.245047789287923,
           3.8971307025529995,
           2.447285017219542,
           2.020726669347141
          ],
          [
           2.506111179721188,
           8.772650938701986,
           18.96103266765158,
           20.078564588201402,
           0.8914231745756069,
           5.209927794842384,
           11.709604389946207,
           12.805112804612737,
           17.615653258037923,
           2.8763389999229503
          ],
          [
           10.895374525559305,
           5.29095906693226,
           13.225510566716252,
           15.697641470341182,
           12.832138555109564,
           6.228107471239923,
           31.789969664287923,
           12.832114918146276,
           5.1581337267879235,
           19.68121169157064
          ],
          [
           24.300589673765785,
           9.605513792705892,
           13.833522152934847,
           8.591361265850423,
           6.5585243517879235,
           14.456961851787923,
           21.71952555723226,
           12.833003524435846,
           9.244802993011831,
           21.98978235222137
          ]
         ]
        }
       ],
       "layout": {
        "legend": {
         "tracegroupgap": 0
        },
        "margin": {
         "t": 60
        },
        "scene": {
         "domain": {
          "x": [
           0,
           1
          ],
          "y": [
           0,
           1
          ]
         },
         "xaxis": {
          "title": {
           "text": "x"
          }
         },
         "yaxis": {
          "title": {
           "text": "y"
          }
         },
         "zaxis": {
          "range": [
           0,
           35
          ],
          "title": {
           "text": "z"
          }
         }
        },
        "template": {
         "data": {
          "bar": [
           {
            "error_x": {
             "color": "#2a3f5f"
            },
            "error_y": {
             "color": "#2a3f5f"
            },
            "marker": {
             "line": {
              "color": "#E5ECF6",
              "width": 0.5
             }
            },
            "type": "bar"
           }
          ],
          "barpolar": [
           {
            "marker": {
             "line": {
              "color": "#E5ECF6",
              "width": 0.5
             }
            },
            "type": "barpolar"
           }
          ],
          "carpet": [
           {
            "aaxis": {
             "endlinecolor": "#2a3f5f",
             "gridcolor": "white",
             "linecolor": "white",
             "minorgridcolor": "white",
             "startlinecolor": "#2a3f5f"
            },
            "baxis": {
             "endlinecolor": "#2a3f5f",
             "gridcolor": "white",
             "linecolor": "white",
             "minorgridcolor": "white",
             "startlinecolor": "#2a3f5f"
            },
            "type": "carpet"
           }
          ],
          "choropleth": [
           {
            "colorbar": {
             "outlinewidth": 0,
             "ticks": ""
            },
            "type": "choropleth"
           }
          ],
          "contour": [
           {
            "colorbar": {
             "outlinewidth": 0,
             "ticks": ""
            },
            "colorscale": [
             [
              0,
              "#0d0887"
             ],
             [
              0.1111111111111111,
              "#46039f"
             ],
             [
              0.2222222222222222,
              "#7201a8"
             ],
             [
              0.3333333333333333,
              "#9c179e"
             ],
             [
              0.4444444444444444,
              "#bd3786"
             ],
             [
              0.5555555555555556,
              "#d8576b"
             ],
             [
              0.6666666666666666,
              "#ed7953"
             ],
             [
              0.7777777777777778,
              "#fb9f3a"
             ],
             [
              0.8888888888888888,
              "#fdca26"
             ],
             [
              1,
              "#f0f921"
             ]
            ],
            "type": "contour"
           }
          ],
          "contourcarpet": [
           {
            "colorbar": {
             "outlinewidth": 0,
             "ticks": ""
            },
            "type": "contourcarpet"
           }
          ],
          "heatmap": [
           {
            "colorbar": {
             "outlinewidth": 0,
             "ticks": ""
            },
            "colorscale": [
             [
              0,
              "#0d0887"
             ],
             [
              0.1111111111111111,
              "#46039f"
             ],
             [
              0.2222222222222222,
              "#7201a8"
             ],
             [
              0.3333333333333333,
              "#9c179e"
             ],
             [
              0.4444444444444444,
              "#bd3786"
             ],
             [
              0.5555555555555556,
              "#d8576b"
             ],
             [
              0.6666666666666666,
              "#ed7953"
             ],
             [
              0.7777777777777778,
              "#fb9f3a"
             ],
             [
              0.8888888888888888,
              "#fdca26"
             ],
             [
              1,
              "#f0f921"
             ]
            ],
            "type": "heatmap"
           }
          ],
          "heatmapgl": [
           {
            "colorbar": {
             "outlinewidth": 0,
             "ticks": ""
            },
            "colorscale": [
             [
              0,
              "#0d0887"
             ],
             [
              0.1111111111111111,
              "#46039f"
             ],
             [
              0.2222222222222222,
              "#7201a8"
             ],
             [
              0.3333333333333333,
              "#9c179e"
             ],
             [
              0.4444444444444444,
              "#bd3786"
             ],
             [
              0.5555555555555556,
              "#d8576b"
             ],
             [
              0.6666666666666666,
              "#ed7953"
             ],
             [
              0.7777777777777778,
              "#fb9f3a"
             ],
             [
              0.8888888888888888,
              "#fdca26"
             ],
             [
              1,
              "#f0f921"
             ]
            ],
            "type": "heatmapgl"
           }
          ],
          "histogram": [
           {
            "marker": {
             "colorbar": {
              "outlinewidth": 0,
              "ticks": ""
             }
            },
            "type": "histogram"
           }
          ],
          "histogram2d": [
           {
            "colorbar": {
             "outlinewidth": 0,
             "ticks": ""
            },
            "colorscale": [
             [
              0,
              "#0d0887"
             ],
             [
              0.1111111111111111,
              "#46039f"
             ],
             [
              0.2222222222222222,
              "#7201a8"
             ],
             [
              0.3333333333333333,
              "#9c179e"
             ],
             [
              0.4444444444444444,
              "#bd3786"
             ],
             [
              0.5555555555555556,
              "#d8576b"
             ],
             [
              0.6666666666666666,
              "#ed7953"
             ],
             [
              0.7777777777777778,
              "#fb9f3a"
             ],
             [
              0.8888888888888888,
              "#fdca26"
             ],
             [
              1,
              "#f0f921"
             ]
            ],
            "type": "histogram2d"
           }
          ],
          "histogram2dcontour": [
           {
            "colorbar": {
             "outlinewidth": 0,
             "ticks": ""
            },
            "colorscale": [
             [
              0,
              "#0d0887"
             ],
             [
              0.1111111111111111,
              "#46039f"
             ],
             [
              0.2222222222222222,
              "#7201a8"
             ],
             [
              0.3333333333333333,
              "#9c179e"
             ],
             [
              0.4444444444444444,
              "#bd3786"
             ],
             [
              0.5555555555555556,
              "#d8576b"
             ],
             [
              0.6666666666666666,
              "#ed7953"
             ],
             [
              0.7777777777777778,
              "#fb9f3a"
             ],
             [
              0.8888888888888888,
              "#fdca26"
             ],
             [
              1,
              "#f0f921"
             ]
            ],
            "type": "histogram2dcontour"
           }
          ],
          "mesh3d": [
           {
            "colorbar": {
             "outlinewidth": 0,
             "ticks": ""
            },
            "type": "mesh3d"
           }
          ],
          "parcoords": [
           {
            "line": {
             "colorbar": {
              "outlinewidth": 0,
              "ticks": ""
             }
            },
            "type": "parcoords"
           }
          ],
          "pie": [
           {
            "automargin": true,
            "type": "pie"
           }
          ],
          "scatter": [
           {
            "marker": {
             "colorbar": {
              "outlinewidth": 0,
              "ticks": ""
             }
            },
            "type": "scatter"
           }
          ],
          "scatter3d": [
           {
            "line": {
             "colorbar": {
              "outlinewidth": 0,
              "ticks": ""
             }
            },
            "marker": {
             "colorbar": {
              "outlinewidth": 0,
              "ticks": ""
             }
            },
            "type": "scatter3d"
           }
          ],
          "scattercarpet": [
           {
            "marker": {
             "colorbar": {
              "outlinewidth": 0,
              "ticks": ""
             }
            },
            "type": "scattercarpet"
           }
          ],
          "scattergeo": [
           {
            "marker": {
             "colorbar": {
              "outlinewidth": 0,
              "ticks": ""
             }
            },
            "type": "scattergeo"
           }
          ],
          "scattergl": [
           {
            "marker": {
             "colorbar": {
              "outlinewidth": 0,
              "ticks": ""
             }
            },
            "type": "scattergl"
           }
          ],
          "scattermapbox": [
           {
            "marker": {
             "colorbar": {
              "outlinewidth": 0,
              "ticks": ""
             }
            },
            "type": "scattermapbox"
           }
          ],
          "scatterpolar": [
           {
            "marker": {
             "colorbar": {
              "outlinewidth": 0,
              "ticks": ""
             }
            },
            "type": "scatterpolar"
           }
          ],
          "scatterpolargl": [
           {
            "marker": {
             "colorbar": {
              "outlinewidth": 0,
              "ticks": ""
             }
            },
            "type": "scatterpolargl"
           }
          ],
          "scatterternary": [
           {
            "marker": {
             "colorbar": {
              "outlinewidth": 0,
              "ticks": ""
             }
            },
            "type": "scatterternary"
           }
          ],
          "surface": [
           {
            "colorbar": {
             "outlinewidth": 0,
             "ticks": ""
            },
            "colorscale": [
             [
              0,
              "#0d0887"
             ],
             [
              0.1111111111111111,
              "#46039f"
             ],
             [
              0.2222222222222222,
              "#7201a8"
             ],
             [
              0.3333333333333333,
              "#9c179e"
             ],
             [
              0.4444444444444444,
              "#bd3786"
             ],
             [
              0.5555555555555556,
              "#d8576b"
             ],
             [
              0.6666666666666666,
              "#ed7953"
             ],
             [
              0.7777777777777778,
              "#fb9f3a"
             ],
             [
              0.8888888888888888,
              "#fdca26"
             ],
             [
              1,
              "#f0f921"
             ]
            ],
            "type": "surface"
           }
          ],
          "table": [
           {
            "cells": {
             "fill": {
              "color": "#EBF0F8"
             },
             "line": {
              "color": "white"
             }
            },
            "header": {
             "fill": {
              "color": "#C8D4E3"
             },
             "line": {
              "color": "white"
             }
            },
            "type": "table"
           }
          ]
         },
         "layout": {
          "annotationdefaults": {
           "arrowcolor": "#2a3f5f",
           "arrowhead": 0,
           "arrowwidth": 1
          },
          "autotypenumbers": "strict",
          "coloraxis": {
           "colorbar": {
            "outlinewidth": 0,
            "ticks": ""
           }
          },
          "colorscale": {
           "diverging": [
            [
             0,
             "#8e0152"
            ],
            [
             0.1,
             "#c51b7d"
            ],
            [
             0.2,
             "#de77ae"
            ],
            [
             0.3,
             "#f1b6da"
            ],
            [
             0.4,
             "#fde0ef"
            ],
            [
             0.5,
             "#f7f7f7"
            ],
            [
             0.6,
             "#e6f5d0"
            ],
            [
             0.7,
             "#b8e186"
            ],
            [
             0.8,
             "#7fbc41"
            ],
            [
             0.9,
             "#4d9221"
            ],
            [
             1,
             "#276419"
            ]
           ],
           "sequential": [
            [
             0,
             "#0d0887"
            ],
            [
             0.1111111111111111,
             "#46039f"
            ],
            [
             0.2222222222222222,
             "#7201a8"
            ],
            [
             0.3333333333333333,
             "#9c179e"
            ],
            [
             0.4444444444444444,
             "#bd3786"
            ],
            [
             0.5555555555555556,
             "#d8576b"
            ],
            [
             0.6666666666666666,
             "#ed7953"
            ],
            [
             0.7777777777777778,
             "#fb9f3a"
            ],
            [
             0.8888888888888888,
             "#fdca26"
            ],
            [
             1,
             "#f0f921"
            ]
           ],
           "sequentialminus": [
            [
             0,
             "#0d0887"
            ],
            [
             0.1111111111111111,
             "#46039f"
            ],
            [
             0.2222222222222222,
             "#7201a8"
            ],
            [
             0.3333333333333333,
             "#9c179e"
            ],
            [
             0.4444444444444444,
             "#bd3786"
            ],
            [
             0.5555555555555556,
             "#d8576b"
            ],
            [
             0.6666666666666666,
             "#ed7953"
            ],
            [
             0.7777777777777778,
             "#fb9f3a"
            ],
            [
             0.8888888888888888,
             "#fdca26"
            ],
            [
             1,
             "#f0f921"
            ]
           ]
          },
          "colorway": [
           "#636efa",
           "#EF553B",
           "#00cc96",
           "#ab63fa",
           "#FFA15A",
           "#19d3f3",
           "#FF6692",
           "#B6E880",
           "#FF97FF",
           "#FECB52"
          ],
          "font": {
           "color": "#2a3f5f"
          },
          "geo": {
           "bgcolor": "white",
           "lakecolor": "white",
           "landcolor": "#E5ECF6",
           "showlakes": true,
           "showland": true,
           "subunitcolor": "white"
          },
          "hoverlabel": {
           "align": "left"
          },
          "hovermode": "closest",
          "mapbox": {
           "style": "light"
          },
          "paper_bgcolor": "white",
          "plot_bgcolor": "#E5ECF6",
          "polar": {
           "angularaxis": {
            "gridcolor": "white",
            "linecolor": "white",
            "ticks": ""
           },
           "bgcolor": "#E5ECF6",
           "radialaxis": {
            "gridcolor": "white",
            "linecolor": "white",
            "ticks": ""
           }
          },
          "scene": {
           "xaxis": {
            "backgroundcolor": "#E5ECF6",
            "gridcolor": "white",
            "gridwidth": 2,
            "linecolor": "white",
            "showbackground": true,
            "ticks": "",
            "zerolinecolor": "white"
           },
           "yaxis": {
            "backgroundcolor": "#E5ECF6",
            "gridcolor": "white",
            "gridwidth": 2,
            "linecolor": "white",
            "showbackground": true,
            "ticks": "",
            "zerolinecolor": "white"
           },
           "zaxis": {
            "backgroundcolor": "#E5ECF6",
            "gridcolor": "white",
            "gridwidth": 2,
            "linecolor": "white",
            "showbackground": true,
            "ticks": "",
            "zerolinecolor": "white"
           }
          },
          "shapedefaults": {
           "line": {
            "color": "#2a3f5f"
           }
          },
          "ternary": {
           "aaxis": {
            "gridcolor": "white",
            "linecolor": "white",
            "ticks": ""
           },
           "baxis": {
            "gridcolor": "white",
            "linecolor": "white",
            "ticks": ""
           },
           "bgcolor": "#E5ECF6",
           "caxis": {
            "gridcolor": "white",
            "linecolor": "white",
            "ticks": ""
           }
          },
          "title": {
           "x": 0.05
          },
          "xaxis": {
           "automargin": true,
           "gridcolor": "white",
           "linecolor": "white",
           "ticks": "",
           "title": {
            "standoff": 15
           },
           "zerolinecolor": "white",
           "zerolinewidth": 2
          },
          "yaxis": {
           "automargin": true,
           "gridcolor": "white",
           "linecolor": "white",
           "ticks": "",
           "title": {
            "standoff": 15
           },
           "zerolinecolor": "white",
           "zerolinewidth": 2
          }
         }
        }
       }
      },
      "text/html": [
       "<div>                            <div id=\"0ab63865-b8f3-446b-9114-54bb7df25f68\" class=\"plotly-graph-div\" style=\"height:525px; width:100%;\"></div>            <script type=\"text/javascript\">                require([\"plotly\"], function(Plotly) {                    window.PLOTLYENV=window.PLOTLYENV || {};                                    if (document.getElementById(\"0ab63865-b8f3-446b-9114-54bb7df25f68\")) {                    Plotly.newPlot(                        \"0ab63865-b8f3-446b-9114-54bb7df25f68\",                        [{\"hovertemplate\": \"x=%{x}<br>y=%{y}<br>z=%{z}<extra></extra>\", \"legendgroup\": \"\", \"marker\": {\"color\": \"#636efa\", \"symbol\": \"circle\"}, \"mode\": \"markers\", \"name\": \"\", \"scene\": \"scene\", \"showlegend\": false, \"type\": \"scatter3d\", \"x\": [-0.8414777290414566, 0.20537652223986758, 2.2927274041256407, 1.3183571056875412, 1.7151954669720713, 0.0015961921966316517, 1.1855918806060624, -0.7693243681792077, -2.297821155366823, -0.08213487892033644, -0.10830161059243881, 3.480462415947195, 1.3694197185654344, -1.7276115443776963, 2.8344931579484074, -2.2096129905122464, -2.5735087065212654, 0.7244123760981003, -2.2299671379188313, 0.1371734948041814, 1.5698726107956267, 2.699054247432481, -0.31568278702339825, 0.8335523207078994, -1.2817164691708656, 0.9142983123183166, 4.178479148670702, -1.4974126755295547, 1.7308315044449287, 2.300988944484593, 0.7918033915397622, 0.08780816557184146, 0.006973616477340627, 2.7651341576674637, 2.498452368980703, -0.934241121280972, 3.2243307004243364, 0.548695987949932, 2.593578322796348, -2.00053323831486, 2.9078724069374786, -0.44914907426316253, -1.9719256721617064, 2.1216500779790577, 3.9906203811240637, 3.90533605530012, -0.3606178171913994, 2.333652865149376, 3.272567648607631, 1.4363611429952847, -0.07920948684276574, 3.832640518674755, -2.0143257254404223, 3.896279457405595, 2.4479696856175277, 0.3373802203606324, 1.6082340823187282, 3.8196139163570066, 4.197715932214986, -0.5106967874795547, 1.331657062595239, 2.330633640535658, -2.608328273136598, -0.15203290672224057, 3.2268268174766117, 3.5796023748921506, 3.274739642355211, -1.5950178338432601, -1.5866245353630686, -0.24706957667845986, 0.7461641696753416, -0.4279331751597, 4.13464353151227, 0.16889061389088855, 0.6434021633811042, 1.4404339383766818, 1.3977613831090627, -1.6213490292964619, 1.8422620142191226, 1.017876716878062, -1.5837261143889423, 0.43368878714100756, 0.7252247057220216, -2.6385223486105533, 3.7355658786771224, -0.9646110350035619, 3.8026340690068317, 0.7675614677111922, -0.256475279169603, 1.303185541959726, 1.660773261693481, -2.5400229133817698, 0.4542777341294366, -2.163079463225541, -1.8954939944440174, 3.3476893873926192, 3.011357761358868, 3.188207295341221, -2.0830781232377302, 1.9214667626238242], \"y\": [4.187781755960167, 3.637734874439917, 2.02386050849488, -1.9220066368485567, -2.7194735831070043, 1.3677166883915648, 2.1896221569758376, 0.9664743444883657, 0.19968535706719992, 1.7220564823876918, 4.179723763032645, 2.9910348366218393, -2.480497490392204, 1.601341687466693, 2.0681113103436806, 1.0115342112944088, 1.5725533033710315, 0.365671399534063, -0.7205146996714511, -1.0841945382647575, -2.221728929291694, 3.2961119945397215, 3.8844951051400356, 1.0997106125290057, 1.8246423249213262, 3.195219786672948, 4.191797323162843, -2.5299423912444268, 0.7968445361896572, 3.6881551466191462, 0.46016066091172503, 1.7760908947271963, -0.6987631757168415, 3.9008231327437732, 1.9789517451269445, -0.07098857628828936, 0.1801628958797079, 2.6553755697386086, -1.7630569638857048, -0.08807186236615205, -0.7457674986463183, -2.067945555929383, -0.9647044096715511, 3.453535462792739, 1.0546040872299667, -1.8297486883137395, -1.2691517133924164, 2.5262891682346584, -1.6361803351625948, 2.0319694920370734, 0.6219953510523051, 1.5380558706605507, -1.348680874798769, -0.794872441085082, -1.07605861423811, 1.1133984820304188, 3.9398779387589533, -1.6782013375586549, 0.7414048455103144, 2.0848993203790522, 2.711028739398527, 1.2875772281991305, 2.458470531903216, -1.4337109930196896, -2.4529159295880367, -1.379709989666658, -2.2689892218129897, 0.9275569803012331, 0.09165556097882943, -0.9454027721609295, 0.7567736611348224, -2.698092513825572, -0.4779588044594778, 4.0807359353958, 0.3215555138192716, -0.2274371436254783, -1.3931852646552076, 4.006402405392232, 3.4180850162161027, -0.07602682280512152, 1.57326601261724, 1.8839041683097033, 2.3019819237632095, 3.0237646864143146, -1.6144820969679703, -1.6118072874973808, 3.5224570634332597, 1.8798928607817889, 1.8892161825663303, 3.833179055228813, 4.104541296948449, -1.2305980787733901, 3.184027954251289, 1.7296531565463793, -1.0469310991164305, 0.2844027718377591, 2.969271618428902, -0.5001470560105714, -1.8488057553558517, -2.309268529685837], \"z\": [20.98784093627244, 16.569664502382945, 12.40164585501188, 6.532247706296038, 9.095215760454519, 3.7171325953370244, 8.958163711133999, 3.057812438861483, 5.687114477844501, 6.34431359479569, 19.792365805738868, 26.432122468574107, 9.492131990510618, 6.601103049849577, 15.663519880642653, 7.645040962224883, 10.306454337370475, 2.926088546281236, 7.760003586680639, 4.834465731501926, 8.582430008317742, 24.398024866094755, 17.447413387544866, 2.8994901282422934, 6.440878003269808, 13.609862843595444, 40.29044177232661, 9.897336013980295, 7.476454463511765, 21.7271305919637, 0.9288279475684553, 5.88125610341583, 2.776428308650936, 25.64749483748202, 12.295329865607696, 3.808760694906269, 14.129879421941279, 10.130331206794414, 11.29815294732246, 5.80200569904796, 10.75988804761976, 6.085067605360368, 5.453674003775552, 20.58301476036678, 20.198603907600805, 22.19184635066576, 3.8969080934807785, 15.471696371677417, 14.233732099368574, 9.392921228182724, 3.551712580915978, 21.998944544923297, 6.8874120936512115, 18.0286263875063, 9.680686955267344, 4.829715561936993, 22.87446312128793, 19.934424832755443, 21.296451513615867, 8.377132426171055, 13.1675021625304, 8.812794259612756, 13.205999038562696, 3.417517187033648, 18.619611414392384, 16.114295032249316, 18.18223824762192, 4.171833188889166, 3.8428711945712566, 2.2381042140716967, 2.721407777175854, 8.77177849861343, 19.3052554089457, 18.049422365379893, 1.1240971819115277, 5.2491724471572745, 6.868230364001274, 19.953852069027977, 17.526467476956448, 3.2226696742460166, 6.495093973575352, 5.37576201885131, 8.812199193979767, 15.561005383513386, 18.380611134988733, 6.972882521446655, 31.678806028405063, 7.902542022868393, 5.332949013438252, 19.72101941444612, 24.61607316011202, 9.539894262781926, 14.173216048574309, 8.606044707905907, 6.647681272429933, 14.377008465374763, 21.664158142668253, 13.19131323977386, 10.59438642205234, 12.989120013175253]}, {\"type\": \"surface\", \"x\": [-2.6385223486105533, -1.8789403174077157, -1.119358286204878, -0.35977625500204047, 0.39980577620079716, 1.1593878074036348, 1.9189698386064724, 2.67855186980931, 3.4381339010121477, 4.197715932214986], \"y\": [-2.7194735831070043, -1.9515545935214655, -1.183635603935927, -0.41571661435038854, 0.3522023752351502, 1.120121364820689, 1.8880403544062272, 2.655959343991766, 3.4238783335773046, 4.191797323162843], \"z\": [[12.8320738537059, 15.97083462121634, 11.461029112779528, 12.743489582790097, 9.36062530240713, 3.791358214092611, 8.42906030224674, 3.4852288181308495, 16.02643591513595, 6.192885879764503], [15.039006930065511, 12.831895049804857, 12.72633182478999, 6.8720009142879235, 15.128939056989907, 12.832183756406332, 8.412574473989366, 3.395710741623475, 7.881886702251791, -2.0443277133282436], [8.175522860360502, 25.845403103960848, 17.269461851787923, 2.646395051956347, 6.377639990520834, 13.590872984600423, 40.36516497678792, 9.768207017902455, 7.4955360705379235, 22.269461851787923], [0.42833004355168214, 1.4851632548842417, 2.7050087267879235, 25.755873900127767, 10.937394856751183, 12.83214853839324, 14.445731383037923, 9.99698371453196, 11.452502247065922, 4.907964310316288], [10.337213422735958, 7.159288367477416, 5.4429848010066735, 20.586966734600423, 12.447627718950546, 22.384118613076566, 3.628793962753548, 15.459021788311361, 14.248404722881673, 10.336241668311118], [3.4569618517879235, 21.687897708036758, 5.68745976336038, 17.718815506889655, 9.432227596468621, 4.4257118517879235, 23.696520814893006, 19.743195128411458, 21.864517819672002, 12.832098606260129], [13.168509703350423, 8.834281187725423, 13.27453921384847, 4.0936806017879235, 18.64302752561605, 15.740334562573963, 18.245047789287923, 3.8971307025529995, 2.447285017219542, 2.020726669347141], [2.506111179721188, 8.772650938701986, 18.96103266765158, 20.078564588201402, 0.8914231745756069, 5.209927794842384, 11.709604389946207, 12.805112804612737, 17.615653258037923, 2.8763389999229503], [10.895374525559305, 5.29095906693226, 13.225510566716252, 15.697641470341182, 12.832138555109564, 6.228107471239923, 31.789969664287923, 12.832114918146276, 5.1581337267879235, 19.68121169157064], [24.300589673765785, 9.605513792705892, 13.833522152934847, 8.591361265850423, 6.5585243517879235, 14.456961851787923, 21.71952555723226, 12.833003524435846, 9.244802993011831, 21.98978235222137]]}],                        {\"legend\": {\"tracegroupgap\": 0}, \"margin\": {\"t\": 60}, \"scene\": {\"domain\": {\"x\": [0.0, 1.0], \"y\": [0.0, 1.0]}, \"xaxis\": {\"title\": {\"text\": \"x\"}}, \"yaxis\": {\"title\": {\"text\": \"y\"}}, \"zaxis\": {\"range\": [0, 35], \"title\": {\"text\": \"z\"}}}, \"template\": {\"data\": {\"bar\": [{\"error_x\": {\"color\": \"#2a3f5f\"}, \"error_y\": {\"color\": \"#2a3f5f\"}, \"marker\": {\"line\": {\"color\": \"#E5ECF6\", \"width\": 0.5}}, \"type\": \"bar\"}], \"barpolar\": [{\"marker\": {\"line\": {\"color\": \"#E5ECF6\", \"width\": 0.5}}, \"type\": \"barpolar\"}], \"carpet\": [{\"aaxis\": {\"endlinecolor\": \"#2a3f5f\", \"gridcolor\": \"white\", \"linecolor\": \"white\", \"minorgridcolor\": \"white\", \"startlinecolor\": \"#2a3f5f\"}, \"baxis\": {\"endlinecolor\": \"#2a3f5f\", \"gridcolor\": \"white\", \"linecolor\": \"white\", \"minorgridcolor\": \"white\", \"startlinecolor\": \"#2a3f5f\"}, \"type\": \"carpet\"}], \"choropleth\": [{\"colorbar\": {\"outlinewidth\": 0, \"ticks\": \"\"}, \"type\": \"choropleth\"}], \"contour\": [{\"colorbar\": {\"outlinewidth\": 0, \"ticks\": \"\"}, \"colorscale\": [[0.0, \"#0d0887\"], [0.1111111111111111, \"#46039f\"], [0.2222222222222222, \"#7201a8\"], [0.3333333333333333, \"#9c179e\"], [0.4444444444444444, \"#bd3786\"], [0.5555555555555556, \"#d8576b\"], [0.6666666666666666, \"#ed7953\"], [0.7777777777777778, \"#fb9f3a\"], [0.8888888888888888, \"#fdca26\"], [1.0, \"#f0f921\"]], \"type\": \"contour\"}], \"contourcarpet\": [{\"colorbar\": {\"outlinewidth\": 0, \"ticks\": \"\"}, \"type\": \"contourcarpet\"}], \"heatmap\": [{\"colorbar\": {\"outlinewidth\": 0, \"ticks\": \"\"}, \"colorscale\": [[0.0, \"#0d0887\"], [0.1111111111111111, \"#46039f\"], [0.2222222222222222, \"#7201a8\"], [0.3333333333333333, \"#9c179e\"], [0.4444444444444444, \"#bd3786\"], [0.5555555555555556, \"#d8576b\"], [0.6666666666666666, \"#ed7953\"], [0.7777777777777778, \"#fb9f3a\"], [0.8888888888888888, \"#fdca26\"], [1.0, \"#f0f921\"]], \"type\": \"heatmap\"}], \"heatmapgl\": [{\"colorbar\": {\"outlinewidth\": 0, \"ticks\": \"\"}, \"colorscale\": [[0.0, \"#0d0887\"], [0.1111111111111111, \"#46039f\"], [0.2222222222222222, \"#7201a8\"], [0.3333333333333333, \"#9c179e\"], [0.4444444444444444, \"#bd3786\"], [0.5555555555555556, \"#d8576b\"], [0.6666666666666666, \"#ed7953\"], [0.7777777777777778, \"#fb9f3a\"], [0.8888888888888888, \"#fdca26\"], [1.0, \"#f0f921\"]], \"type\": \"heatmapgl\"}], \"histogram\": [{\"marker\": {\"colorbar\": {\"outlinewidth\": 0, \"ticks\": \"\"}}, \"type\": \"histogram\"}], \"histogram2d\": [{\"colorbar\": {\"outlinewidth\": 0, \"ticks\": \"\"}, \"colorscale\": [[0.0, \"#0d0887\"], [0.1111111111111111, \"#46039f\"], [0.2222222222222222, \"#7201a8\"], [0.3333333333333333, \"#9c179e\"], [0.4444444444444444, \"#bd3786\"], [0.5555555555555556, \"#d8576b\"], [0.6666666666666666, \"#ed7953\"], [0.7777777777777778, \"#fb9f3a\"], [0.8888888888888888, \"#fdca26\"], [1.0, \"#f0f921\"]], \"type\": \"histogram2d\"}], \"histogram2dcontour\": [{\"colorbar\": {\"outlinewidth\": 0, \"ticks\": \"\"}, \"colorscale\": [[0.0, \"#0d0887\"], [0.1111111111111111, \"#46039f\"], [0.2222222222222222, \"#7201a8\"], [0.3333333333333333, \"#9c179e\"], [0.4444444444444444, \"#bd3786\"], [0.5555555555555556, \"#d8576b\"], [0.6666666666666666, \"#ed7953\"], [0.7777777777777778, \"#fb9f3a\"], [0.8888888888888888, \"#fdca26\"], [1.0, \"#f0f921\"]], \"type\": \"histogram2dcontour\"}], \"mesh3d\": [{\"colorbar\": {\"outlinewidth\": 0, \"ticks\": \"\"}, \"type\": \"mesh3d\"}], \"parcoords\": [{\"line\": {\"colorbar\": {\"outlinewidth\": 0, \"ticks\": \"\"}}, \"type\": \"parcoords\"}], \"pie\": [{\"automargin\": true, \"type\": \"pie\"}], \"scatter\": [{\"marker\": {\"colorbar\": {\"outlinewidth\": 0, \"ticks\": \"\"}}, \"type\": \"scatter\"}], \"scatter3d\": [{\"line\": {\"colorbar\": {\"outlinewidth\": 0, \"ticks\": \"\"}}, \"marker\": {\"colorbar\": {\"outlinewidth\": 0, \"ticks\": \"\"}}, \"type\": \"scatter3d\"}], \"scattercarpet\": [{\"marker\": {\"colorbar\": {\"outlinewidth\": 0, \"ticks\": \"\"}}, \"type\": \"scattercarpet\"}], \"scattergeo\": [{\"marker\": {\"colorbar\": {\"outlinewidth\": 0, \"ticks\": \"\"}}, \"type\": \"scattergeo\"}], \"scattergl\": [{\"marker\": {\"colorbar\": {\"outlinewidth\": 0, \"ticks\": \"\"}}, \"type\": \"scattergl\"}], \"scattermapbox\": [{\"marker\": {\"colorbar\": {\"outlinewidth\": 0, \"ticks\": \"\"}}, \"type\": \"scattermapbox\"}], \"scatterpolar\": [{\"marker\": {\"colorbar\": {\"outlinewidth\": 0, \"ticks\": \"\"}}, \"type\": \"scatterpolar\"}], \"scatterpolargl\": [{\"marker\": {\"colorbar\": {\"outlinewidth\": 0, \"ticks\": \"\"}}, \"type\": \"scatterpolargl\"}], \"scatterternary\": [{\"marker\": {\"colorbar\": {\"outlinewidth\": 0, \"ticks\": \"\"}}, \"type\": \"scatterternary\"}], \"surface\": [{\"colorbar\": {\"outlinewidth\": 0, \"ticks\": \"\"}, \"colorscale\": [[0.0, \"#0d0887\"], [0.1111111111111111, \"#46039f\"], [0.2222222222222222, \"#7201a8\"], [0.3333333333333333, \"#9c179e\"], [0.4444444444444444, \"#bd3786\"], [0.5555555555555556, \"#d8576b\"], [0.6666666666666666, \"#ed7953\"], [0.7777777777777778, \"#fb9f3a\"], [0.8888888888888888, \"#fdca26\"], [1.0, \"#f0f921\"]], \"type\": \"surface\"}], \"table\": [{\"cells\": {\"fill\": {\"color\": \"#EBF0F8\"}, \"line\": {\"color\": \"white\"}}, \"header\": {\"fill\": {\"color\": \"#C8D4E3\"}, \"line\": {\"color\": \"white\"}}, \"type\": \"table\"}]}, \"layout\": {\"annotationdefaults\": {\"arrowcolor\": \"#2a3f5f\", \"arrowhead\": 0, \"arrowwidth\": 1}, \"autotypenumbers\": \"strict\", \"coloraxis\": {\"colorbar\": {\"outlinewidth\": 0, \"ticks\": \"\"}}, \"colorscale\": {\"diverging\": [[0, \"#8e0152\"], [0.1, \"#c51b7d\"], [0.2, \"#de77ae\"], [0.3, \"#f1b6da\"], [0.4, \"#fde0ef\"], [0.5, \"#f7f7f7\"], [0.6, \"#e6f5d0\"], [0.7, \"#b8e186\"], [0.8, \"#7fbc41\"], [0.9, \"#4d9221\"], [1, \"#276419\"]], \"sequential\": [[0.0, \"#0d0887\"], [0.1111111111111111, \"#46039f\"], [0.2222222222222222, \"#7201a8\"], [0.3333333333333333, \"#9c179e\"], [0.4444444444444444, \"#bd3786\"], [0.5555555555555556, \"#d8576b\"], [0.6666666666666666, \"#ed7953\"], [0.7777777777777778, \"#fb9f3a\"], [0.8888888888888888, \"#fdca26\"], [1.0, \"#f0f921\"]], \"sequentialminus\": [[0.0, \"#0d0887\"], [0.1111111111111111, \"#46039f\"], [0.2222222222222222, \"#7201a8\"], [0.3333333333333333, \"#9c179e\"], [0.4444444444444444, \"#bd3786\"], [0.5555555555555556, \"#d8576b\"], [0.6666666666666666, \"#ed7953\"], [0.7777777777777778, \"#fb9f3a\"], [0.8888888888888888, \"#fdca26\"], [1.0, \"#f0f921\"]]}, \"colorway\": [\"#636efa\", \"#EF553B\", \"#00cc96\", \"#ab63fa\", \"#FFA15A\", \"#19d3f3\", \"#FF6692\", \"#B6E880\", \"#FF97FF\", \"#FECB52\"], \"font\": {\"color\": \"#2a3f5f\"}, \"geo\": {\"bgcolor\": \"white\", \"lakecolor\": \"white\", \"landcolor\": \"#E5ECF6\", \"showlakes\": true, \"showland\": true, \"subunitcolor\": \"white\"}, \"hoverlabel\": {\"align\": \"left\"}, \"hovermode\": \"closest\", \"mapbox\": {\"style\": \"light\"}, \"paper_bgcolor\": \"white\", \"plot_bgcolor\": \"#E5ECF6\", \"polar\": {\"angularaxis\": {\"gridcolor\": \"white\", \"linecolor\": \"white\", \"ticks\": \"\"}, \"bgcolor\": \"#E5ECF6\", \"radialaxis\": {\"gridcolor\": \"white\", \"linecolor\": \"white\", \"ticks\": \"\"}}, \"scene\": {\"xaxis\": {\"backgroundcolor\": \"#E5ECF6\", \"gridcolor\": \"white\", \"gridwidth\": 2, \"linecolor\": \"white\", \"showbackground\": true, \"ticks\": \"\", \"zerolinecolor\": \"white\"}, \"yaxis\": {\"backgroundcolor\": \"#E5ECF6\", \"gridcolor\": \"white\", \"gridwidth\": 2, \"linecolor\": \"white\", \"showbackground\": true, \"ticks\": \"\", \"zerolinecolor\": \"white\"}, \"zaxis\": {\"backgroundcolor\": \"#E5ECF6\", \"gridcolor\": \"white\", \"gridwidth\": 2, \"linecolor\": \"white\", \"showbackground\": true, \"ticks\": \"\", \"zerolinecolor\": \"white\"}}, \"shapedefaults\": {\"line\": {\"color\": \"#2a3f5f\"}}, \"ternary\": {\"aaxis\": {\"gridcolor\": \"white\", \"linecolor\": \"white\", \"ticks\": \"\"}, \"baxis\": {\"gridcolor\": \"white\", \"linecolor\": \"white\", \"ticks\": \"\"}, \"bgcolor\": \"#E5ECF6\", \"caxis\": {\"gridcolor\": \"white\", \"linecolor\": \"white\", \"ticks\": \"\"}}, \"title\": {\"x\": 0.05}, \"xaxis\": {\"automargin\": true, \"gridcolor\": \"white\", \"linecolor\": \"white\", \"ticks\": \"\", \"title\": {\"standoff\": 15}, \"zerolinecolor\": \"white\", \"zerolinewidth\": 2}, \"yaxis\": {\"automargin\": true, \"gridcolor\": \"white\", \"linecolor\": \"white\", \"ticks\": \"\", \"title\": {\"standoff\": 15}, \"zerolinecolor\": \"white\", \"zerolinewidth\": 2}}}},                        {\"responsive\": true}                    ).then(function(){\n",
       "                            \n",
       "var gd = document.getElementById('0ab63865-b8f3-446b-9114-54bb7df25f68');\n",
       "var x = new MutationObserver(function (mutations, observer) {{\n",
       "        var display = window.getComputedStyle(gd).display;\n",
       "        if (!display || display === 'none') {{\n",
       "            console.log([gd, 'removed!']);\n",
       "            Plotly.purge(gd);\n",
       "            observer.disconnect();\n",
       "        }}\n",
       "}});\n",
       "\n",
       "// Listen for the removal of the full notebook cells\n",
       "var notebookContainer = gd.closest('#notebook-container');\n",
       "if (notebookContainer) {{\n",
       "    x.observe(notebookContainer, {childList: true});\n",
       "}}\n",
       "\n",
       "// Listen for the clearing of the current output cell\n",
       "var outputEl = gd.closest('.output');\n",
       "if (outputEl) {{\n",
       "    x.observe(outputEl, {childList: true});\n",
       "}}\n",
       "\n",
       "                        })                };                });            </script>        </div>"
      ]
     },
     "metadata": {},
     "output_type": "display_data"
    }
   ],
   "source": [
    "fig = px.scatter_3d(x=x.ravel(), y=y.ravel(), z=z.ravel())\n",
    "\n",
    "fig.add_trace(go.Surface(x = x_input, y = y_input, z =z_final))\n",
    "\n",
    "fig.update_layout(scene = dict(zaxis = dict(range=[0,35])))\n",
    "\n",
    "fig.show()"
   ]
  },
  {
   "cell_type": "code",
   "execution_count": null,
   "id": "a3f9e8dc",
   "metadata": {},
   "outputs": [],
   "source": []
  },
  {
   "cell_type": "code",
   "execution_count": null,
   "id": "4eb1aa56",
   "metadata": {},
   "outputs": [],
   "source": []
  },
  {
   "cell_type": "code",
   "execution_count": null,
   "id": "f4595216",
   "metadata": {},
   "outputs": [],
   "source": []
  },
  {
   "cell_type": "code",
   "execution_count": null,
   "id": "e8119018",
   "metadata": {},
   "outputs": [],
   "source": []
  }
 ],
 "metadata": {
  "kernelspec": {
   "display_name": "Python 3",
   "language": "python",
   "name": "python3"
  },
  "language_info": {
   "codemirror_mode": {
    "name": "ipython",
    "version": 3
   },
   "file_extension": ".py",
   "mimetype": "text/x-python",
   "name": "python",
   "nbconvert_exporter": "python",
   "pygments_lexer": "ipython3",
   "version": "3.12.1"
  }
 },
 "nbformat": 4,
 "nbformat_minor": 5
}
